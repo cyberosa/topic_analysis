{
 "cells": [
  {
   "cell_type": "code",
   "execution_count": 10,
   "metadata": {},
   "outputs": [],
   "source": [
    "%matplotlib inline\n",
    "import pandas as pd\n",
    "import numpy as np\n",
    "import matplotlib.pyplot as plt\n",
    "import gensim\n",
    "import nltk\n",
    "import re\n",
    "import gensim.corpora as corpora\n",
    "from gensim.utils import simple_preprocess\n",
    "from gensim.models.coherencemodel import CoherenceModel\n",
    "from time import time\n",
    "from nltk.corpus import stopwords\n",
    "from nltk.stem.porter import PorterStemmer\n",
    "from pprint import pprint"
   ]
  },
  {
   "cell_type": "markdown",
   "metadata": {},
   "source": [
    "# Motivation\n",
    "A low Number of topics results in too few or very broad topics, whereas a high number of topics results in uninterpretable topics or topics that ideally should  have  been  merged.  Choosing  the  right  value  of  topics  is thus an important task in topic modeling algorithms. Researchers have proposed topic **coherence** measures. The idea behind is that words with similar meanings tend to occur in similar contexts. The topics are considered to be coherent if all or most of the words, for example, the topic’s top N words, are related.\n",
    "Source Paper: http://www.saf21.eu/wp-content/uploads/2017/09/5004a165.pdf"
   ]
  },
  {
   "cell_type": "markdown",
   "metadata": {},
   "source": [
    "# Corpus and dictionary"
   ]
  },
  {
   "cell_type": "code",
   "execution_count": 2,
   "metadata": {},
   "outputs": [],
   "source": [
    "df = pd.read_pickle(\"../data/cleaned_df\")"
   ]
  },
  {
   "cell_type": "code",
   "execution_count": 3,
   "metadata": {},
   "outputs": [
    {
     "name": "stderr",
     "output_type": "stream",
     "text": [
      "[nltk_data] Downloading package stopwords to\n",
      "[nltk_data]     C:\\Users\\ARosa\\AppData\\Roaming\\nltk_data...\n",
      "[nltk_data]   Package stopwords is already up-to-date!\n"
     ]
    }
   ],
   "source": [
    "nltk.download('stopwords')\n",
    "stop_words = stopwords.words('english')\n",
    "# words from the wordcloud\n",
    "stop_words.extend(['thank', 'please', 'whats', 'thanks', 'email', 'would', 'us', 'will', 'address', \n",
    "                   'question', 'questions', 'many', 'must', 'could', 'should'])"
   ]
  },
  {
   "cell_type": "code",
   "execution_count": 5,
   "metadata": {},
   "outputs": [],
   "source": [
    "def stemming(docs):\n",
    "    porter_stemmer=nltk.PorterStemmer()\n",
    "    return [[porter_stemmer.stem(word) for word in doc] for doc in docs]\n",
    "\n",
    "# simple_preprocess: it lowercases, tokenizes, de-accents (optional) with deacc\n",
    "def extract_words(questions):\n",
    "    for q in questions:\n",
    "        # deacc=True removes punctuations\n",
    "        yield(simple_preprocess(str(q), deacc=True))\n",
    "        \n",
    "def remove_stopwords(docs):\n",
    "    # docs is a list of document. A document being a list of words\n",
    "    return [[word for word in simple_preprocess(str(doc)) \n",
    "             if word not in stop_words] for doc in docs]\n",
    "\n",
    "def remove_empty_list(docs):\n",
    "    return [doc for doc in docs if len(doc)>0]                "
   ]
  },
  {
   "cell_type": "code",
   "execution_count": 6,
   "metadata": {},
   "outputs": [],
   "source": [
    "data = df.cleaned.values.tolist()\n",
    "corpus = list(extract_words(data))\n",
    "corpus_sw = remove_stopwords(corpus)\n",
    "final_corpus = remove_empty_list(corpus_sw)\n",
    "final_corpus_stem = stemming(final_corpus)"
   ]
  },
  {
   "cell_type": "code",
   "execution_count": 7,
   "metadata": {},
   "outputs": [],
   "source": [
    "# Create Dictionary\n",
    "id2word = corpora.Dictionary(final_corpus_stem)"
   ]
  },
  {
   "cell_type": "code",
   "execution_count": 8,
   "metadata": {},
   "outputs": [],
   "source": [
    "# Convert document (a list of words) into the bag-of-words\n",
    "# Each word is assumed to be a tokenized and normalized ( (either unicode or utf8-encoded).)\n",
    "corpus = [id2word.doc2bow(doc) for doc in final_corpus_stem]"
   ]
  },
  {
   "cell_type": "markdown",
   "metadata": {},
   "source": [
    "Now we are ready with the same corpus as the initial exploration."
   ]
  },
  {
   "cell_type": "markdown",
   "metadata": {},
   "source": [
    "# Find optimal number of topics using coherence\n"
   ]
  },
  {
   "cell_type": "markdown",
   "metadata": {},
   "source": [
    "Let's train multiple LDA models and select the one with the highest coherence score. We will use *U_mass* coherence. It is calculated over the log of probabilities therefore it is negative."
   ]
  },
  {
   "cell_type": "code",
   "execution_count": 17,
   "metadata": {},
   "outputs": [],
   "source": [
    "def u_mass_coherence_values_computation(dictionary, corpus, limit, start=2, step=3):\n",
    "    coherence_values = []\n",
    "    model_list = []\n",
    "    for num_topics in range(start, limit, step):\n",
    "        model = gensim.models.LdaModel(corpus=corpus,\n",
    "                                       id2word=id2word,\n",
    "                                       alpha='auto',\n",
    "                                       eta='auto',\n",
    "                                       num_topics=num_topics,\n",
    "                                       random_state=42)\n",
    "        model_list.append(model)\n",
    "        coherencemodel = CoherenceModel(model=model, corpus=corpus, coherence='u_mass')\n",
    "        coherence_values.append(coherencemodel.get_coherence())\n",
    "    return model_list, coherence_values"
   ]
  },
  {
   "cell_type": "code",
   "execution_count": 18,
   "metadata": {},
   "outputs": [
    {
     "data": {
      "image/png": "[encoded data removed]",
      "text/plain": [
       "<Figure size 432x288 with 1 Axes>"
      ]
     },
     "metadata": {
      "needs_background": "light"
     },
     "output_type": "display_data"
    }
   ],
   "source": [
    "model_list, coherence_values = u_mass_coherence_values_computation (dictionary=id2word, corpus=corpus,\n",
    "                                                             start=1, limit=30, step=5)\n",
    "limit=30; start=1; step=5;\n",
    "x = range(start, limit, step)\n",
    "plt.plot(x, coherence_values)\n",
    "plt.xlabel(\"Num Topics\")\n",
    "plt.ylabel(\"Coherence score\")\n",
    "plt.legend((\"coherence_values\"), loc='best')\n",
    "plt.show()"
   ]
  },
  {
   "cell_type": "code",
   "execution_count": 19,
   "metadata": {},
   "outputs": [
    {
     "name": "stdout",
     "output_type": "stream",
     "text": [
      "Num Topics = 1  is having Coherence Value of -16.8197\n",
      "Num Topics = 6  is having Coherence Value of -13.565\n",
      "Num Topics = 11  is having Coherence Value of -13.9584\n",
      "Num Topics = 16  is having Coherence Value of -14.7591\n",
      "Num Topics = 21  is having Coherence Value of -15.0457\n",
      "Num Topics = 26  is having Coherence Value of -15.5078\n"
     ]
    }
   ],
   "source": [
    "for m, cv in zip(x, coherence_values):\n",
    "   print(\"Num Topics =\", m, \" is having Coherence Value of\", round(cv, 4))"
   ]
  },
  {
   "cell_type": "markdown",
   "metadata": {},
   "source": [
    "# LDA 6 Topics"
   ]
  },
  {
   "cell_type": "code",
   "execution_count": 23,
   "metadata": {},
   "outputs": [
    {
     "name": "stdout",
     "output_type": "stream",
     "text": [
      "[(0,\n",
      "  '0.211*\"strongif\" + 0.053*\"name\" + 0.032*\"notstrong\" + 0.028*\"use\" + '\n",
      "  '0.017*\"want\" + 0.014*\"time\" + 0.012*\"comment\" + 0.012*\"number\" + '\n",
      "  '0.009*\"compani\" + 0.008*\"first\"'),\n",
      " (1,\n",
      "  '0.159*\"like\" + 0.075*\"softwar\" + 0.075*\"appear\" + 0.071*\"home\" + '\n",
      "  '0.070*\"use\" + 0.070*\"want\" + 0.070*\"usual\" + 0.059*\"page\" + '\n",
      "  '0.049*\"notstrong\" + 0.033*\"often\"'),\n",
      " (2,\n",
      "  '0.234*\"say\" + 0.012*\"like\" + 0.010*\"interest\" + 0.010*\"share\" + '\n",
      "  '0.009*\"provid\" + 0.008*\"anyth\" + 0.008*\"one\" + 0.008*\"help\" + 0.007*\"els\" + '\n",
      "  '0.007*\"project\"'),\n",
      " (3,\n",
      "  '0.213*\"item\" + 0.033*\"page\" + 0.010*\"take\" + 0.009*\"answer\" + '\n",
      "  '0.008*\"feedback\" + 0.007*\"survey\" + 0.007*\"like\" + 0.007*\"want\" + '\n",
      "  '0.007*\"appreci\" + 0.007*\"think\"'),\n",
      " (4,\n",
      "  '0.111*\"think\" + 0.111*\"click\" + 0.111*\"handl\" + 0.111*\"success\" + '\n",
      "  '0.110*\"twitter\" + 0.064*\"often\" + 0.011*\"item\" + 0.010*\"like\" + '\n",
      "  '0.008*\"usual\" + 0.007*\"page\"'),\n",
      " (5,\n",
      "  '0.159*\"requir\" + 0.159*\"littl\" + 0.123*\"dietari\" + 0.013*\"much\" + '\n",
      "  '0.010*\"use\" + 0.010*\"like\" + 0.009*\"project\" + 0.008*\"get\" + 0.006*\"tell\" + '\n",
      "  '0.006*\"contact\"')]\n"
     ]
    }
   ],
   "source": [
    "optimal_model = model_list[1]\n",
    "model_topics = optimal_model.show_topics(formatted=False)\n",
    "pprint(optimal_model.print_topics(num_words=10))"
   ]
  },
  {
   "cell_type": "code",
   "execution_count": 25,
   "metadata": {},
   "outputs": [],
   "source": [
    "import pickle \n",
    "import pyLDAvis\n",
    "import pyLDAvis.gensim_models as gensimvis\n",
    "import os\n",
    "def generate_html_vis_file(model, num_topics, id2word, corpus):\n",
    "    # Visualize the topics\n",
    "    pyLDAvis.enable_notebook()\n",
    "    LDAvis_filepath = os.path.join('../data/ldavis_'+str(num_topics)+'_topics')\n",
    "    \n",
    "    # feed the LDA model into the pyLDAvis instance\n",
    "    LDAvis_prepared = gensimvis.prepare(model, corpus, id2word)\n",
    "    with open(LDAvis_filepath, 'wb') as f:\n",
    "            pickle.dump(LDAvis_prepared, f)\n",
    "    with open(LDAvis_filepath, 'rb') as f:\n",
    "        LDAvis_prepared = pickle.load(f)\n",
    "    pyLDAvis.save_html(LDAvis_prepared, '../data/ldavis_'+ str(num_topics)+'_topics' +'.html')"
   ]
  },
  {
   "cell_type": "code",
   "execution_count": 26,
   "metadata": {},
   "outputs": [],
   "source": [
    "generate_html_vis_file(optimal_model, 6, id2word, corpus)"
   ]
  },
  {
   "cell_type": "markdown",
   "metadata": {},
   "source": [
    "# Dominant topic per question"
   ]
  },
  {
   "cell_type": "code",
   "execution_count": 30,
   "metadata": {},
   "outputs": [],
   "source": [
    "def dominant_topics(ldamodel, corpus, texts):\n",
    "    q_topics_df = pd.DataFrame()\n",
    "    for i, row in enumerate(ldamodel[corpus]):\n",
    "        row = sorted(row, key=lambda x: (x[1]), reverse=True)\n",
    "        for j, (topic_num, prop_topic) in enumerate(row):\n",
    "            if j == 0: # => dominant topic\n",
    "                wp = ldamodel.show_topic(topic_num)\n",
    "                topic_keywords = \", \".join([word for word, prop in wp])\n",
    "                q_topics_df = q_topics_df.append(\n",
    "                pd.Series([int(topic_num), round(prop_topic,4), topic_keywords]), ignore_index=True)\n",
    "            else:\n",
    "                break\n",
    "    q_topics_df.columns = ['Dominant_Topic', 'Perc_Contribution', 'Topic_Keywords']\n",
    "    contents = pd.Series(texts)\n",
    "    q_topics_df = pd.concat([q_topics_df, contents], axis=1)\n",
    "    return(q_topics_df)"
   ]
  },
  {
   "cell_type": "code",
   "execution_count": 31,
   "metadata": {},
   "outputs": [],
   "source": [
    "df_topic_sents_keywords = dominant_topics(optimal_model, corpus, final_corpus_stem)"
   ]
  },
  {
   "cell_type": "code",
   "execution_count": 32,
   "metadata": {},
   "outputs": [],
   "source": [
    "df_dominant_topic = df_topic_sents_keywords.reset_index()\n",
    "df_dominant_topic.columns = [\n",
    "   'Document_No', 'Dominant_Topic', 'Topic_Perc_Contrib', 'Keywords', 'Text'\n",
    "]"
   ]
  },
  {
   "cell_type": "code",
   "execution_count": 33,
   "metadata": {},
   "outputs": [
    {
     "data": {
      "text/html": [
       "<div>\n",
       "<style scoped>\n",
       "    .dataframe tbody tr th:only-of-type {\n",
       "        vertical-align: middle;\n",
       "    }\n",
       "\n",
       "    .dataframe tbody tr th {\n",
       "        vertical-align: top;\n",
       "    }\n",
       "\n",
       "    .dataframe thead th {\n",
       "        text-align: right;\n",
       "    }\n",
       "</style>\n",
       "<table border=\"1\" class=\"dataframe\">\n",
       "  <thead>\n",
       "    <tr style=\"text-align: right;\">\n",
       "      <th></th>\n",
       "      <th>Document_No</th>\n",
       "      <th>Dominant_Topic</th>\n",
       "      <th>Topic_Perc_Contrib</th>\n",
       "      <th>Keywords</th>\n",
       "      <th>Text</th>\n",
       "    </tr>\n",
       "  </thead>\n",
       "  <tbody>\n",
       "    <tr>\n",
       "      <th>0</th>\n",
       "      <td>0</td>\n",
       "      <td>4.0</td>\n",
       "      <td>0.6187</td>\n",
       "      <td>think, click, handl, success, twitter, often, ...</td>\n",
       "      <td>[firstnam]</td>\n",
       "    </tr>\n",
       "    <tr>\n",
       "      <th>1</th>\n",
       "      <td>1</td>\n",
       "      <td>5.0</td>\n",
       "      <td>0.8127</td>\n",
       "      <td>requir, littl, dietari, much, use, like, proje...</td>\n",
       "      <td>[get, irrit, easili]</td>\n",
       "    </tr>\n",
       "    <tr>\n",
       "      <th>2</th>\n",
       "      <td>2</td>\n",
       "      <td>0.0</td>\n",
       "      <td>0.6092</td>\n",
       "      <td>strongif, name, notstrong, use, want, time, co...</td>\n",
       "      <td>[comment]</td>\n",
       "    </tr>\n",
       "    <tr>\n",
       "      <th>3</th>\n",
       "      <td>3</td>\n",
       "      <td>2.0</td>\n",
       "      <td>0.8079</td>\n",
       "      <td>say, like, interest, share, provid, anyth, one...</td>\n",
       "      <td>[let, survey, exercis]</td>\n",
       "    </tr>\n",
       "    <tr>\n",
       "      <th>4</th>\n",
       "      <td>4</td>\n",
       "      <td>1.0</td>\n",
       "      <td>0.7496</td>\n",
       "      <td>like, softwar, appear, home, use, want, usual,...</td>\n",
       "      <td>[like, design]</td>\n",
       "    </tr>\n",
       "    <tr>\n",
       "      <th>5</th>\n",
       "      <td>5</td>\n",
       "      <td>2.0</td>\n",
       "      <td>0.7420</td>\n",
       "      <td>say, like, interest, share, provid, anyth, one...</td>\n",
       "      <td>[part, contact, surpris, soon]</td>\n",
       "    </tr>\n",
       "    <tr>\n",
       "      <th>6</th>\n",
       "      <td>6</td>\n",
       "      <td>4.0</td>\n",
       "      <td>0.5662</td>\n",
       "      <td>think, click, handl, success, twitter, often, ...</td>\n",
       "      <td>[ever, paid, servic, like]</td>\n",
       "    </tr>\n",
       "    <tr>\n",
       "      <th>7</th>\n",
       "      <td>7</td>\n",
       "      <td>2.0</td>\n",
       "      <td>0.8081</td>\n",
       "      <td>say, like, interest, share, provid, anyth, one...</td>\n",
       "      <td>[type, servic, interest]</td>\n",
       "    </tr>\n",
       "    <tr>\n",
       "      <th>8</th>\n",
       "      <td>8</td>\n",
       "      <td>2.0</td>\n",
       "      <td>0.8070</td>\n",
       "      <td>say, like, interest, share, provid, anyth, one...</td>\n",
       "      <td>[recommend, indivirtu, client]</td>\n",
       "    </tr>\n",
       "    <tr>\n",
       "      <th>9</th>\n",
       "      <td>9</td>\n",
       "      <td>2.0</td>\n",
       "      <td>0.8082</td>\n",
       "      <td>say, like, interest, share, provid, anyth, one...</td>\n",
       "      <td>[select, bunch, stuff]</td>\n",
       "    </tr>\n",
       "    <tr>\n",
       "      <th>10</th>\n",
       "      <td>10</td>\n",
       "      <td>1.0</td>\n",
       "      <td>0.6175</td>\n",
       "      <td>like, softwar, appear, home, use, want, usual,...</td>\n",
       "      <td>[websit]</td>\n",
       "    </tr>\n",
       "    <tr>\n",
       "      <th>11</th>\n",
       "      <td>11</td>\n",
       "      <td>5.0</td>\n",
       "      <td>0.7194</td>\n",
       "      <td>requir, littl, dietari, much, use, like, proje...</td>\n",
       "      <td>[els, thrown, ground]</td>\n",
       "    </tr>\n",
       "    <tr>\n",
       "      <th>12</th>\n",
       "      <td>12</td>\n",
       "      <td>2.0</td>\n",
       "      <td>0.6042</td>\n",
       "      <td>say, like, interest, share, provid, anyth, one...</td>\n",
       "      <td>[ok]</td>\n",
       "    </tr>\n",
       "    <tr>\n",
       "      <th>13</th>\n",
       "      <td>13</td>\n",
       "      <td>3.0</td>\n",
       "      <td>0.7406</td>\n",
       "      <td>item, page, take, answer, feedback, survey, li...</td>\n",
       "      <td>[favorit, beer]</td>\n",
       "    </tr>\n",
       "    <tr>\n",
       "      <th>14</th>\n",
       "      <td>14</td>\n",
       "      <td>1.0</td>\n",
       "      <td>0.4030</td>\n",
       "      <td>like, softwar, appear, home, use, want, usual,...</td>\n",
       "      <td>[legal, bit]</td>\n",
       "    </tr>\n",
       "  </tbody>\n",
       "</table>\n",
       "</div>"
      ],
      "text/plain": [
       "    Document_No  Dominant_Topic  Topic_Perc_Contrib  \\\n",
       "0             0             4.0              0.6187   \n",
       "1             1             5.0              0.8127   \n",
       "2             2             0.0              0.6092   \n",
       "3             3             2.0              0.8079   \n",
       "4             4             1.0              0.7496   \n",
       "5             5             2.0              0.7420   \n",
       "6             6             4.0              0.5662   \n",
       "7             7             2.0              0.8081   \n",
       "8             8             2.0              0.8070   \n",
       "9             9             2.0              0.8082   \n",
       "10           10             1.0              0.6175   \n",
       "11           11             5.0              0.7194   \n",
       "12           12             2.0              0.6042   \n",
       "13           13             3.0              0.7406   \n",
       "14           14             1.0              0.4030   \n",
       "\n",
       "                                             Keywords  \\\n",
       "0   think, click, handl, success, twitter, often, ...   \n",
       "1   requir, littl, dietari, much, use, like, proje...   \n",
       "2   strongif, name, notstrong, use, want, time, co...   \n",
       "3   say, like, interest, share, provid, anyth, one...   \n",
       "4   like, softwar, appear, home, use, want, usual,...   \n",
       "5   say, like, interest, share, provid, anyth, one...   \n",
       "6   think, click, handl, success, twitter, often, ...   \n",
       "7   say, like, interest, share, provid, anyth, one...   \n",
       "8   say, like, interest, share, provid, anyth, one...   \n",
       "9   say, like, interest, share, provid, anyth, one...   \n",
       "10  like, softwar, appear, home, use, want, usual,...   \n",
       "11  requir, littl, dietari, much, use, like, proje...   \n",
       "12  say, like, interest, share, provid, anyth, one...   \n",
       "13  item, page, take, answer, feedback, survey, li...   \n",
       "14  like, softwar, appear, home, use, want, usual,...   \n",
       "\n",
       "                              Text  \n",
       "0                       [firstnam]  \n",
       "1             [get, irrit, easili]  \n",
       "2                        [comment]  \n",
       "3           [let, survey, exercis]  \n",
       "4                   [like, design]  \n",
       "5   [part, contact, surpris, soon]  \n",
       "6       [ever, paid, servic, like]  \n",
       "7         [type, servic, interest]  \n",
       "8   [recommend, indivirtu, client]  \n",
       "9           [select, bunch, stuff]  \n",
       "10                        [websit]  \n",
       "11           [els, thrown, ground]  \n",
       "12                            [ok]  \n",
       "13                 [favorit, beer]  \n",
       "14                    [legal, bit]  "
      ]
     },
     "execution_count": 33,
     "metadata": {},
     "output_type": "execute_result"
    }
   ],
   "source": [
    "df_dominant_topic.head(15)"
   ]
  },
  {
   "cell_type": "markdown",
   "metadata": {},
   "source": [
    "## Topic distribution of documents"
   ]
  },
  {
   "cell_type": "code",
   "execution_count": 35,
   "metadata": {},
   "outputs": [],
   "source": [
    "def topics_doc_to_df(topics_doc, num_topics):\n",
    "    res = pd.DataFrame(columns=range(num_topics))\n",
    "    for topic_weight in topics_doc:\n",
    "        res.loc[0, topic_weight[0]] = topic_weight[1]\n",
    "    return res\n",
    "\n",
    "def get_docs_dist_per_topic(model, corpus, num_topics):\n",
    "    topics = [model[corpus[i]] for i in range(len(corpus))]\n",
    "    # topic weighting matrix\n",
    "    topics_df = pd.concat([topics_doc_to_df(topics_doc, num_topics) \n",
    "                                for topics_doc in topics]).reset_index(drop=True).fillna(0)\n",
    "    return topics_df"
   ]
  },
  {
   "cell_type": "code",
   "execution_count": 36,
   "metadata": {},
   "outputs": [],
   "source": [
    "topics6_df = get_docs_dist_per_topic(optimal_model, corpus, 6)"
   ]
  },
  {
   "cell_type": "code",
   "execution_count": 38,
   "metadata": {},
   "outputs": [
    {
     "data": {
      "text/plain": [
       "<matplotlib.axes._subplots.AxesSubplot at 0x18c52db0f08>"
      ]
     },
     "execution_count": 38,
     "metadata": {},
     "output_type": "execute_result"
    },
    {
     "data": {
      "image/png": "[encoded data removed]",
      "text/plain": [
       "<Figure size 432x288 with 1 Axes>"
      ]
     },
     "metadata": {},
     "output_type": "display_data"
    }
   ],
   "source": [
    "import seaborn as sns\n",
    "sns.set(style=\"darkgrid\", palette=\"viridis\")\n",
    "topics6_df.idxmax(axis=1).value_counts().plot.bar(color='purple')"
   ]
  },
  {
   "cell_type": "markdown",
   "metadata": {},
   "source": [
    "## Conclusion"
   ]
  },
  {
   "cell_type": "markdown",
   "metadata": {},
   "source": [
    "We found a way to select the best number of topics according to a mathematical coherence model. The next step would be to get the domain knowledge experts so that they can explore the topics and confirm if they are relevant or not. Besides they should give a name to each category."
   ]
  },
  {
   "cell_type": "code",
   "execution_count": null,
   "metadata": {},
   "outputs": [],
   "source": []
  }
 ],
 "metadata": {
  "kernelspec": {
   "display_name": "Python 3",
   "language": "python",
   "name": "python3"
  },
  "language_info": {
   "codemirror_mode": {
    "name": "ipython",
    "version": 3
   },
   "file_extension": ".py",
   "mimetype": "text/x-python",
   "name": "python",
   "nbconvert_exporter": "python",
   "pygments_lexer": "ipython3",
   "version": "3.7.7"
  }
 },
 "nbformat": 4,
 "nbformat_minor": 2
}
