{
 "cells": [
  {
   "cell_type": "code",
   "execution_count": 21,
   "metadata": {},
   "outputs": [],
   "source": [
    "%matplotlib inline\n",
    "import pandas as pd\n",
    "import numpy as np\n",
    "import matplotlib.pyplot as plt\n",
    "import gensim\n",
    "import nltk\n",
    "import re\n",
    "import gensim.corpora as corpora\n",
    "from gensim.utils import simple_preprocess\n",
    "from time import time\n",
    "from nltk.corpus import stopwords\n",
    "from pprint import pprint"
   ]
  },
  {
   "cell_type": "markdown",
   "metadata": {},
   "source": [
    "# Load and prepare documents"
   ]
  },
  {
   "cell_type": "code",
   "execution_count": 22,
   "metadata": {},
   "outputs": [],
   "source": [
    "df = pd.read_pickle(\"../data/cleaned_df\")"
   ]
  },
  {
   "cell_type": "code",
   "execution_count": 23,
   "metadata": {},
   "outputs": [
    {
     "data": {
      "text/html": [
       "<div>\n",
       "<style scoped>\n",
       "    .dataframe tbody tr th:only-of-type {\n",
       "        vertical-align: middle;\n",
       "    }\n",
       "\n",
       "    .dataframe tbody tr th {\n",
       "        vertical-align: top;\n",
       "    }\n",
       "\n",
       "    .dataframe thead th {\n",
       "        text-align: right;\n",
       "    }\n",
       "</style>\n",
       "<table border=\"1\" class=\"dataframe\">\n",
       "  <thead>\n",
       "    <tr style=\"text-align: right;\">\n",
       "      <th></th>\n",
       "      <th>question</th>\n",
       "      <th>cleaned</th>\n",
       "      <th>length</th>\n",
       "      <th>wc</th>\n",
       "    </tr>\n",
       "  </thead>\n",
       "  <tbody>\n",
       "    <tr>\n",
       "      <th>0</th>\n",
       "      <td>Are you there?</td>\n",
       "      <td>are you there</td>\n",
       "      <td>13</td>\n",
       "      <td>3</td>\n",
       "    </tr>\n",
       "    <tr>\n",
       "      <th>1</th>\n",
       "      <td>Firstname:</td>\n",
       "      <td>firstname</td>\n",
       "      <td>9</td>\n",
       "      <td>1</td>\n",
       "    </tr>\n",
       "    <tr>\n",
       "      <th>2</th>\n",
       "      <td>I get irritated easily.</td>\n",
       "      <td>i get irritated easily</td>\n",
       "      <td>22</td>\n",
       "      <td>4</td>\n",
       "    </tr>\n",
       "    <tr>\n",
       "      <th>3</th>\n",
       "      <td>Comments</td>\n",
       "      <td>comments</td>\n",
       "      <td>8</td>\n",
       "      <td>1</td>\n",
       "    </tr>\n",
       "    <tr>\n",
       "      <th>4</th>\n",
       "      <td>Let's do a survey about exercising?</td>\n",
       "      <td>lets do a survey about exercising</td>\n",
       "      <td>33</td>\n",
       "      <td>6</td>\n",
       "    </tr>\n",
       "  </tbody>\n",
       "</table>\n",
       "</div>"
      ],
      "text/plain": [
       "                              question                            cleaned  \\\n",
       "0                       Are you there?                      are you there   \n",
       "1                           Firstname:                          firstname   \n",
       "2              I get irritated easily.             i get irritated easily   \n",
       "3                             Comments                           comments   \n",
       "4  Let's do a survey about exercising?  lets do a survey about exercising   \n",
       "\n",
       "   length  wc  \n",
       "0      13   3  \n",
       "1       9   1  \n",
       "2      22   4  \n",
       "3       8   1  \n",
       "4      33   6  "
      ]
     },
     "execution_count": 23,
     "metadata": {},
     "output_type": "execute_result"
    }
   ],
   "source": [
    "df.head()"
   ]
  },
  {
   "cell_type": "code",
   "execution_count": 24,
   "metadata": {},
   "outputs": [
    {
     "name": "stderr",
     "output_type": "stream",
     "text": [
      "[nltk_data] Downloading package stopwords to\n",
      "[nltk_data]     C:\\Users\\ARosa\\AppData\\Roaming\\nltk_data...\n",
      "[nltk_data]   Package stopwords is already up-to-date!\n"
     ]
    }
   ],
   "source": [
    "nltk.download('stopwords')\n",
    "stop_words = stopwords.words('english')\n",
    "# words from the wordcloud\n",
    "stop_words.extend(['thank', 'please', 'whats', 'thanks', 'email', 'would', 'us', 'will', 'address', \n",
    "                   'question', 'questions', 'many', 'name', 'must', 'could', 'should'])"
   ]
  },
  {
   "cell_type": "code",
   "execution_count": 25,
   "metadata": {},
   "outputs": [],
   "source": [
    "# simple_preprocess: it lowercases, tokenizes, de-accents (optional) with deacc\n",
    "def extract_words(questions):\n",
    "    for q in questions:\n",
    "        # deacc=True removes punctuations\n",
    "        yield(simple_preprocess(str(q), deacc=True))\n",
    "        \n",
    "def remove_stopwords(docs):\n",
    "    # docs is a list of document. A document being a list of words\n",
    "    return [[word for word in simple_preprocess(str(doc)) \n",
    "             if word not in stop_words] for doc in docs]\n",
    "                "
   ]
  },
  {
   "cell_type": "code",
   "execution_count": 26,
   "metadata": {},
   "outputs": [
    {
     "data": {
      "text/plain": [
       "['are you there',\n",
       " 'firstname',\n",
       " 'i get irritated easily',\n",
       " 'comments',\n",
       " 'lets do a survey about exercising',\n",
       " 'do you like our design',\n",
       " 'thank you you are part of us now we will contact you with surprises soon',\n",
       " 'have you ever paid for a service like this before',\n",
       " 'what type of services are you interested in',\n",
       " 'would you recommend indivirtual to other clients']"
      ]
     },
     "execution_count": 26,
     "metadata": {},
     "output_type": "execute_result"
    }
   ],
   "source": [
    "data = df.cleaned.values.tolist()\n",
    "data[:10]"
   ]
  },
  {
   "cell_type": "code",
   "execution_count": 27,
   "metadata": {},
   "outputs": [
    {
     "data": {
      "text/plain": [
       "[['are', 'you', 'there'],\n",
       " ['firstname'],\n",
       " ['get', 'irritated', 'easily'],\n",
       " ['comments'],\n",
       " ['lets', 'do', 'survey', 'about', 'exercising'],\n",
       " ['do', 'you', 'like', 'our', 'design'],\n",
       " ['thank',\n",
       "  'you',\n",
       "  'you',\n",
       "  'are',\n",
       "  'part',\n",
       "  'of',\n",
       "  'us',\n",
       "  'now',\n",
       "  'we',\n",
       "  'will',\n",
       "  'contact',\n",
       "  'you',\n",
       "  'with',\n",
       "  'surprises',\n",
       "  'soon'],\n",
       " ['have', 'you', 'ever', 'paid', 'for', 'service', 'like', 'this', 'before'],\n",
       " ['what', 'type', 'of', 'services', 'are', 'you', 'interested', 'in'],\n",
       " ['would', 'you', 'recommend', 'indivirtual', 'to', 'other', 'clients']]"
      ]
     },
     "execution_count": 27,
     "metadata": {},
     "output_type": "execute_result"
    }
   ],
   "source": [
    "corpus = list(extract_words(data))\n",
    "corpus[:10]"
   ]
  },
  {
   "cell_type": "code",
   "execution_count": 28,
   "metadata": {},
   "outputs": [
    {
     "data": {
      "text/plain": [
       "4306"
      ]
     },
     "execution_count": 28,
     "metadata": {},
     "output_type": "execute_result"
    }
   ],
   "source": [
    "corpus_sw = remove_stopwords(corpus)\n",
    "len(corpus_sw)"
   ]
  },
  {
   "cell_type": "code",
   "execution_count": 29,
   "metadata": {},
   "outputs": [
    {
     "data": {
      "text/plain": [
       "[[],\n",
       " ['firstname'],\n",
       " ['get', 'irritated', 'easily'],\n",
       " ['comments'],\n",
       " ['lets', 'survey', 'exercising'],\n",
       " ['like', 'design'],\n",
       " ['part', 'contact', 'surprises', 'soon'],\n",
       " ['ever', 'paid', 'service', 'like'],\n",
       " ['type', 'services', 'interested'],\n",
       " ['recommend', 'indivirtual', 'clients']]"
      ]
     },
     "execution_count": 29,
     "metadata": {},
     "output_type": "execute_result"
    }
   ],
   "source": [
    "corpus_sw[:10]"
   ]
  },
  {
   "cell_type": "markdown",
   "metadata": {},
   "source": [
    "We might have now some empty lists. Need to remove them."
   ]
  },
  {
   "cell_type": "code",
   "execution_count": 30,
   "metadata": {},
   "outputs": [],
   "source": [
    "def remove_empty_list(docs):\n",
    "    return [doc for doc in docs if len(doc)>0]   "
   ]
  },
  {
   "cell_type": "code",
   "execution_count": 31,
   "metadata": {},
   "outputs": [],
   "source": [
    "final_corpus = remove_empty_list(corpus_sw)"
   ]
  },
  {
   "cell_type": "code",
   "execution_count": 32,
   "metadata": {},
   "outputs": [
    {
     "data": {
      "text/plain": [
       "[['firstname'],\n",
       " ['get', 'irritated', 'easily'],\n",
       " ['comments'],\n",
       " ['lets', 'survey', 'exercising'],\n",
       " ['like', 'design'],\n",
       " ['part', 'contact', 'surprises', 'soon'],\n",
       " ['ever', 'paid', 'service', 'like'],\n",
       " ['type', 'services', 'interested'],\n",
       " ['recommend', 'indivirtual', 'clients'],\n",
       " ['select', 'bunch', 'stuff']]"
      ]
     },
     "execution_count": 32,
     "metadata": {},
     "output_type": "execute_result"
    }
   ],
   "source": [
    "final_corpus[:10]"
   ]
  },
  {
   "cell_type": "code",
   "execution_count": 33,
   "metadata": {},
   "outputs": [],
   "source": [
    "# Create Dictionary\n",
    "id2word = corpora.Dictionary(final_corpus)\n",
    "\n",
    "# Convert document (a list of words) into the bag-of-words\n",
    "# Each word is assumed to be a tokenized and normalized ( (either unicode or utf8-encoded).)\n",
    "corpus = [id2word.doc2bow(doc) for doc in final_corpus]"
   ]
  },
  {
   "cell_type": "code",
   "execution_count": 34,
   "metadata": {},
   "outputs": [
    {
     "data": {
      "text/plain": [
       "[[(0, 1)],\n",
       " [(1, 1), (2, 1), (3, 1)],\n",
       " [(4, 1)],\n",
       " [(5, 1), (6, 1), (7, 1)],\n",
       " [(8, 1), (9, 1)],\n",
       " [(10, 1), (11, 1), (12, 1), (13, 1)],\n",
       " [(9, 1), (14, 1), (15, 1), (16, 1)],\n",
       " [(17, 1), (18, 1), (19, 1)],\n",
       " [(20, 1), (21, 1), (22, 1)],\n",
       " [(23, 1), (24, 1), (25, 1)]]"
      ]
     },
     "execution_count": 34,
     "metadata": {},
     "output_type": "execute_result"
    }
   ],
   "source": [
    "corpus[:10]"
   ]
  },
  {
   "cell_type": "markdown",
   "metadata": {},
   "source": [
    "# LDA 5 Topics"
   ]
  },
  {
   "cell_type": "code",
   "execution_count": 47,
   "metadata": {},
   "outputs": [
    {
     "name": "stdout",
     "output_type": "stream",
     "text": [
      "[(0,\n",
      "  '0.010*\"time\" + 0.009*\"get\" + 0.009*\"much\" + 0.007*\"comments\" + '\n",
      "  '0.007*\"survey\" + 0.007*\"website\" + 0.007*\"project\" + 0.006*\"done\" + '\n",
      "  '0.006*\"soon\" + 0.006*\"improve\"'),\n",
      " (1,\n",
      "  '0.015*\"favorite\" + 0.013*\"much\" + 0.012*\"rate\" + 0.011*\"website\" + '\n",
      "  '0.010*\"type\" + 0.009*\"work\" + 0.008*\"like\" + 0.007*\"business\" + '\n",
      "  '0.007*\"team\" + 0.006*\"contact\"'),\n",
      " (2,\n",
      "  '0.024*\"like\" + 0.014*\"enter\" + 0.012*\"time\" + 0.011*\"want\" + 0.010*\"one\" + '\n",
      "  '0.009*\"service\" + 0.009*\"think\" + 0.008*\"old\" + 0.007*\"comments\" + '\n",
      "  '0.006*\"often\"'),\n",
      " (3,\n",
      "  '0.047*\"like\" + 0.012*\"know\" + 0.011*\"help\" + 0.010*\"tell\" + 0.008*\"contact\" '\n",
      "  '+ 0.008*\"one\" + 0.007*\"feedback\" + 0.007*\"use\" + 0.007*\"rate\" + '\n",
      "  '0.007*\"first\"'),\n",
      " (4,\n",
      "  '0.013*\"company\" + 0.012*\"form\" + 0.010*\"use\" + 0.009*\"project\" + '\n",
      "  '0.008*\"age\" + 0.007*\"rate\" + 0.007*\"feel\" + 0.007*\"phone\" + 0.007*\"welcome\" '\n",
      "  '+ 0.007*\"like\"')]\n"
     ]
    }
   ],
   "source": [
    "# let´s start with 5 topics\n",
    "num_topics = 5\n",
    "\n",
    "# Build LDA model\n",
    "lda_model5 = gensim.models.LdaMulticore(corpus=corpus,\n",
    "                                       id2word=id2word,\n",
    "                                       num_topics=num_topics,\n",
    "                                       random_state=42)\n",
    "\n",
    "# Print the key words for the 5 topics\n",
    "pprint(lda_model5.print_topics())\n"
   ]
  },
  {
   "cell_type": "markdown",
   "metadata": {},
   "source": [
    "# LDA 3 Topics"
   ]
  },
  {
   "cell_type": "code",
   "execution_count": 48,
   "metadata": {},
   "outputs": [],
   "source": [
    "num_topics = 3\n",
    "lda_model3 = gensim.models.LdaMulticore(corpus=corpus,\n",
    "                                       id2word=id2word,\n",
    "                                       num_topics=num_topics,\n",
    "                                       random_state=42)\n",
    "doc_lda3 = lda_model3[corpus]"
   ]
  },
  {
   "cell_type": "code",
   "execution_count": 49,
   "metadata": {},
   "outputs": [
    {
     "name": "stdout",
     "output_type": "stream",
     "text": [
      "[(0,\n",
      "  '0.008*\"time\" + 0.007*\"project\" + 0.007*\"get\" + 0.007*\"much\" + 0.007*\"use\" + '\n",
      "  '0.007*\"welcome\" + 0.006*\"comments\" + 0.006*\"best\" + 0.006*\"see\" + '\n",
      "  '0.006*\"survey\"'),\n",
      " (1,\n",
      "  '0.014*\"like\" + 0.010*\"rate\" + 0.010*\"favorite\" + 0.009*\"much\" + '\n",
      "  '0.009*\"website\" + 0.008*\"contact\" + 0.008*\"first\" + 0.007*\"number\" + '\n",
      "  '0.006*\"know\" + 0.006*\"type\"'),\n",
      " (2,\n",
      "  '0.038*\"like\" + 0.010*\"one\" + 0.009*\"think\" + 0.009*\"time\" + 0.008*\"enter\" + '\n",
      "  '0.008*\"help\" + 0.007*\"want\" + 0.007*\"survey\" + 0.007*\"make\" + '\n",
      "  '0.007*\"taking\"')]\n"
     ]
    }
   ],
   "source": [
    "# Print the key words for the 3 topics\n",
    "pprint(lda_model3.print_topics())"
   ]
  },
  {
   "cell_type": "markdown",
   "metadata": {},
   "source": [
    "# LDA 7 Topics"
   ]
  },
  {
   "cell_type": "code",
   "execution_count": 50,
   "metadata": {},
   "outputs": [],
   "source": [
    "num_topics = 7\n",
    "lda_model7 = gensim.models.LdaMulticore(corpus=corpus,\n",
    "                                       id2word=id2word,\n",
    "                                       num_topics=num_topics,\n",
    "                                       random_state=42)"
   ]
  },
  {
   "cell_type": "code",
   "execution_count": 51,
   "metadata": {},
   "outputs": [
    {
     "name": "stdout",
     "output_type": "stream",
     "text": [
      "[(0,\n",
      "  '0.014*\"time\" + 0.010*\"comments\" + 0.010*\"much\" + 0.007*\"get\" + 0.007*\"done\" '\n",
      "  '+ 0.006*\"following\" + 0.006*\"website\" + 0.006*\"date\" + 0.006*\"use\" + '\n",
      "  '0.005*\"project\"'),\n",
      " (1,\n",
      "  '0.018*\"favorite\" + 0.014*\"rate\" + 0.013*\"website\" + 0.011*\"much\" + '\n",
      "  '0.010*\"business\" + 0.010*\"type\" + 0.009*\"work\" + 0.008*\"like\" + '\n",
      "  '0.008*\"contact\" + 0.008*\"number\"'),\n",
      " (2,\n",
      "  '0.036*\"like\" + 0.015*\"enter\" + 0.012*\"want\" + 0.012*\"time\" + 0.012*\"one\" + '\n",
      "  '0.011*\"old\" + 0.008*\"make\" + 0.008*\"service\" + 0.008*\"else\" + '\n",
      "  '0.008*\"anything\"'),\n",
      " (3,\n",
      "  '0.049*\"like\" + 0.012*\"one\" + 0.012*\"tell\" + 0.010*\"first\" + 0.010*\"know\" + '\n",
      "  '0.009*\"help\" + 0.009*\"contact\" + 0.008*\"use\" + 0.007*\"next\" + 0.007*\"see\"'),\n",
      " (4,\n",
      "  '0.014*\"company\" + 0.012*\"form\" + 0.012*\"use\" + 0.011*\"website\" + '\n",
      "  '0.009*\"comments\" + 0.008*\"project\" + 0.008*\"like\" + 0.008*\"rate\" + '\n",
      "  '0.008*\"feel\" + 0.007*\"people\"'),\n",
      " (5,\n",
      "  '0.016*\"survey\" + 0.015*\"think\" + 0.015*\"much\" + 0.012*\"like\" + 0.011*\"best\" '\n",
      "  '+ 0.010*\"taking\" + 0.010*\"know\" + 0.010*\"time\" + 0.007*\"touch\" + '\n",
      "  '0.007*\"better\"'),\n",
      " (6,\n",
      "  '0.017*\"rate\" + 0.014*\"get\" + 0.008*\"like\" + 0.008*\"age\" + 0.007*\"form\" + '\n",
      "  '0.007*\"phone\" + 0.007*\"select\" + 0.006*\"help\" + 0.006*\"feedback\" + '\n",
      "  '0.006*\"prefer\"')]\n"
     ]
    }
   ],
   "source": [
    "# Print the key words for the 7 topics\n",
    "pprint(lda_model7.print_topics())"
   ]
  },
  {
   "cell_type": "markdown",
   "metadata": {},
   "source": [
    "# Asking topic distribution per documents"
   ]
  },
  {
   "cell_type": "code",
   "execution_count": 52,
   "metadata": {},
   "outputs": [
    {
     "data": {
      "text/plain": [
       "[(0, 0.102428354),\n",
       " (1, 0.5933935),\n",
       " (2, 0.10128215),\n",
       " (3, 0.100846924),\n",
       " (4, 0.10204905)]"
      ]
     },
     "execution_count": 52,
     "metadata": {},
     "output_type": "execute_result"
    }
   ],
   "source": [
    "lda_model5[corpus[10]]"
   ]
  },
  {
   "cell_type": "code",
   "execution_count": 53,
   "metadata": {},
   "outputs": [
    {
     "data": {
      "text/plain": [
       "[(0, 0.18981844), (1, 0.63009566), (2, 0.18008593)]"
      ]
     },
     "execution_count": 53,
     "metadata": {},
     "output_type": "execute_result"
    }
   ],
   "source": [
    "lda_model3[corpus[10]]"
   ]
  },
  {
   "cell_type": "code",
   "execution_count": 54,
   "metadata": {},
   "outputs": [
    {
     "data": {
      "text/plain": [
       "[(0, 0.07165535),\n",
       " (1, 0.5703324),\n",
       " (2, 0.07156853),\n",
       " (3, 0.07158237),\n",
       " (4, 0.071883604),\n",
       " (5, 0.07148297),\n",
       " (6, 0.071494795)]"
      ]
     },
     "execution_count": 54,
     "metadata": {},
     "output_type": "execute_result"
    }
   ],
   "source": [
    "lda_model7[corpus[10]]"
   ]
  },
  {
   "cell_type": "markdown",
   "metadata": {},
   "source": [
    "For such a small amount of documents, maybe it makes more sense to have less topics, increasing the probability of each document to be represented by one of them."
   ]
  },
  {
   "cell_type": "code",
   "execution_count": 55,
   "metadata": {},
   "outputs": [],
   "source": [
    "def topics_doc_to_df(topics_doc, num_topics):\n",
    "    res = pd.DataFrame(columns=range(num_topics))\n",
    "    for topic_weight in topics_doc:\n",
    "        res.loc[0, topic_weight[0]] = topic_weight[1]\n",
    "    return res\n",
    "\n",
    "def get_docs_dist_per_topic(model, corpus, num_topics):\n",
    "    topics = [model[corpus[i]] for i in range(len(corpus))]\n",
    "    # topic weighting matrix\n",
    "    topics_df = pd.concat([topics_doc_to_df(topics_doc, num_topics) \n",
    "                                for topics_doc in topics]).reset_index(drop=True).fillna(0)\n",
    "    return topics_df"
   ]
  },
  {
   "cell_type": "code",
   "execution_count": 56,
   "metadata": {},
   "outputs": [],
   "source": [
    "topics5_df = get_docs_dist_per_topic(lda_model5, corpus, 5)\n",
    "topics3_df = get_docs_dist_per_topic(lda_model3, corpus, 3)\n",
    "topics7_df = get_docs_dist_per_topic(lda_model7, corpus, 7)"
   ]
  },
  {
   "cell_type": "code",
   "execution_count": 57,
   "metadata": {},
   "outputs": [
    {
     "data": {
      "text/html": [
       "<div>\n",
       "<style scoped>\n",
       "    .dataframe tbody tr th:only-of-type {\n",
       "        vertical-align: middle;\n",
       "    }\n",
       "\n",
       "    .dataframe tbody tr th {\n",
       "        vertical-align: top;\n",
       "    }\n",
       "\n",
       "    .dataframe thead th {\n",
       "        text-align: right;\n",
       "    }\n",
       "</style>\n",
       "<table border=\"1\" class=\"dataframe\">\n",
       "  <thead>\n",
       "    <tr style=\"text-align: right;\">\n",
       "      <th></th>\n",
       "      <th>0</th>\n",
       "      <th>1</th>\n",
       "      <th>2</th>\n",
       "      <th>3</th>\n",
       "      <th>4</th>\n",
       "    </tr>\n",
       "  </thead>\n",
       "  <tbody>\n",
       "    <tr>\n",
       "      <th>0</th>\n",
       "      <td>0.100041</td>\n",
       "      <td>0.100039</td>\n",
       "      <td>0.599843</td>\n",
       "      <td>0.100036</td>\n",
       "      <td>0.100041</td>\n",
       "    </tr>\n",
       "    <tr>\n",
       "      <th>1</th>\n",
       "      <td>0.799022</td>\n",
       "      <td>0.050241</td>\n",
       "      <td>0.050250</td>\n",
       "      <td>0.050153</td>\n",
       "      <td>0.050333</td>\n",
       "    </tr>\n",
       "    <tr>\n",
       "      <th>2</th>\n",
       "      <td>0.592794</td>\n",
       "      <td>0.100015</td>\n",
       "      <td>0.104210</td>\n",
       "      <td>0.100336</td>\n",
       "      <td>0.102645</td>\n",
       "    </tr>\n",
       "    <tr>\n",
       "      <th>3</th>\n",
       "      <td>0.051078</td>\n",
       "      <td>0.050311</td>\n",
       "      <td>0.796910</td>\n",
       "      <td>0.051249</td>\n",
       "      <td>0.050451</td>\n",
       "    </tr>\n",
       "    <tr>\n",
       "      <th>4</th>\n",
       "      <td>0.067598</td>\n",
       "      <td>0.067328</td>\n",
       "      <td>0.067600</td>\n",
       "      <td>0.729648</td>\n",
       "      <td>0.067827</td>\n",
       "    </tr>\n",
       "  </tbody>\n",
       "</table>\n",
       "</div>"
      ],
      "text/plain": [
       "          0         1         2         3         4\n",
       "0  0.100041  0.100039  0.599843  0.100036  0.100041\n",
       "1  0.799022  0.050241  0.050250  0.050153  0.050333\n",
       "2  0.592794  0.100015  0.104210  0.100336  0.102645\n",
       "3  0.051078  0.050311  0.796910  0.051249  0.050451\n",
       "4  0.067598  0.067328  0.067600  0.729648  0.067827"
      ]
     },
     "execution_count": 57,
     "metadata": {},
     "output_type": "execute_result"
    }
   ],
   "source": [
    "topics5_df.head()"
   ]
  },
  {
   "cell_type": "code",
   "execution_count": 58,
   "metadata": {},
   "outputs": [
    {
     "data": {
      "text/plain": [
       "<matplotlib.axes._subplots.AxesSubplot at 0x235c50b65c8>"
      ]
     },
     "execution_count": 58,
     "metadata": {},
     "output_type": "execute_result"
    },
    {
     "data": {
      "image/png": "[encoded data removed]",
      "text/plain": [
       "<Figure size 432x288 with 1 Axes>"
      ]
     },
     "metadata": {},
     "output_type": "display_data"
    }
   ],
   "source": [
    "import seaborn as sns\n",
    "sns.set(style=\"darkgrid\", palette=\"viridis\")\n",
    "topics5_df.idxmax(axis=1).value_counts().plot.bar(color='lightblue')"
   ]
  },
  {
   "cell_type": "code",
   "execution_count": 59,
   "metadata": {},
   "outputs": [
    {
     "data": {
      "text/plain": [
       "<matplotlib.axes._subplots.AxesSubplot at 0x235c50d3f48>"
      ]
     },
     "execution_count": 59,
     "metadata": {},
     "output_type": "execute_result"
    },
    {
     "data": {
      "image/png": "[encoded data removed]",
      "text/plain": [
       "<Figure size 432x288 with 1 Axes>"
      ]
     },
     "metadata": {},
     "output_type": "display_data"
    }
   ],
   "source": [
    "topics3_df.idxmax(axis=1).value_counts().plot.bar(color='green')"
   ]
  },
  {
   "cell_type": "code",
   "execution_count": 60,
   "metadata": {},
   "outputs": [
    {
     "data": {
      "text/plain": [
       "<matplotlib.axes._subplots.AxesSubplot at 0x235c50ffe48>"
      ]
     },
     "execution_count": 60,
     "metadata": {},
     "output_type": "execute_result"
    },
    {
     "data": {
      "image/png": "[encoded data removed]",
      "text/plain": [
       "<Figure size 432x288 with 1 Axes>"
      ]
     },
     "metadata": {},
     "output_type": "display_data"
    }
   ],
   "source": [
    "topics7_df.idxmax(axis=1).value_counts().plot.bar(color='purple')"
   ]
  },
  {
   "cell_type": "markdown",
   "metadata": {},
   "source": [
    "# Visualizing the topics"
   ]
  },
  {
   "cell_type": "code",
   "execution_count": 61,
   "metadata": {},
   "outputs": [],
   "source": [
    "import pickle \n",
    "import pyLDAvis\n",
    "import pyLDAvis.gensim_models as gensimvis\n",
    "import os"
   ]
  },
  {
   "cell_type": "code",
   "execution_count": 62,
   "metadata": {},
   "outputs": [],
   "source": [
    "def generate_html_vis_file(model, num_topics, id2word, corpus):\n",
    "    # Visualize the topics\n",
    "    pyLDAvis.enable_notebook()\n",
    "    LDAvis_filepath = os.path.join('../data/ldavis_'+str(num_topics)+'_topics')\n",
    "    \n",
    "    # feed the LDA model into the pyLDAvis instance\n",
    "    LDAvis_prepared = gensimvis.prepare(model, corpus, id2word)\n",
    "    with open(LDAvis_filepath, 'wb') as f:\n",
    "            pickle.dump(LDAvis_prepared, f)\n",
    "    with open(LDAvis_filepath, 'rb') as f:\n",
    "        LDAvis_prepared = pickle.load(f)\n",
    "    pyLDAvis.save_html(LDAvis_prepared, '../data/ldavis_'+ str(num_topics)+'_topics' +'.html')"
   ]
  },
  {
   "cell_type": "code",
   "execution_count": 75,
   "metadata": {},
   "outputs": [],
   "source": [
    "generate_html_vis_file(lda_model5, 5, id2word, corpus)"
   ]
  },
  {
   "cell_type": "code",
   "execution_count": 76,
   "metadata": {},
   "outputs": [],
   "source": [
    "generate_html_vis_file(lda_model3, 3, id2word, corpus)"
   ]
  },
  {
   "cell_type": "code",
   "execution_count": 77,
   "metadata": {},
   "outputs": [],
   "source": [
    "generate_html_vis_file(lda_model7, 7, id2word, corpus)"
   ]
  },
  {
   "cell_type": "markdown",
   "metadata": {},
   "source": [
    "   **Alpha parameter**: is Dirichlet prior concentration parameter that represents document-topic density — with a higher alpha, documents are assumed to be made up of more topics and result in more specific topic distribution per document.\n",
    "\n",
    "   **Beta parameter**: is the same prior concentration parameter that represents topic-word density — with high beta, topics are assumed to made of up most of the words and result in a more specific word distribution per topic."
   ]
  },
  {
   "cell_type": "markdown",
   "metadata": {},
   "source": [
    "Setting lambda = 1 results in the familiar ranking of terms in decreasing order of their topic-specific probability, \n",
    "and setting lambda = 0 ranks terms solely by their lift. We wish to learn an “optimal” value of lambda for topic interpretation."
   ]
  },
  {
   "cell_type": "markdown",
   "metadata": {},
   "source": [
    "See https://nlp.stanford.edu/events/illvi2014/papers/sievert-illvi2014.pdf page 4 to interpret lambda formula."
   ]
  },
  {
   "cell_type": "markdown",
   "metadata": {},
   "source": [
    "# Predicting new documents"
   ]
  },
  {
   "cell_type": "code",
   "execution_count": 66,
   "metadata": {},
   "outputs": [],
   "source": [
    "new_q = \"Which is your job role?\""
   ]
  },
  {
   "cell_type": "markdown",
   "metadata": {},
   "source": [
    "We need to repeat the same cleaning steps as we did for the topic analysis."
   ]
  },
  {
   "cell_type": "code",
   "execution_count": 67,
   "metadata": {},
   "outputs": [],
   "source": [
    "def prepare_input(text):\n",
    "    text = re.sub(r'[^A-Za-z0-9 ]+', '', text)\n",
    "    tokens = simple_preprocess(text, deacc=True)\n",
    "    #print(tokens)\n",
    "    return [token for token in tokens if token not in stop_words]"
   ]
  },
  {
   "cell_type": "code",
   "execution_count": 68,
   "metadata": {},
   "outputs": [
    {
     "data": {
      "text/plain": [
       "['job', 'role']"
      ]
     },
     "execution_count": 68,
     "metadata": {},
     "output_type": "execute_result"
    }
   ],
   "source": [
    "doc = prepare_input(new_q)\n",
    "doc"
   ]
  },
  {
   "cell_type": "code",
   "execution_count": 70,
   "metadata": {},
   "outputs": [
    {
     "data": {
      "text/plain": [
       "[(0, 0.73210394),\n",
       " (1, 0.06745302),\n",
       " (2, 0.06667223),\n",
       " (3, 0.06667185),\n",
       " (4, 0.06709901)]"
      ]
     },
     "execution_count": 70,
     "metadata": {},
     "output_type": "execute_result"
    }
   ],
   "source": [
    "lda_model5[id2word.doc2bow(doc)]"
   ]
  },
  {
   "cell_type": "code",
   "execution_count": 71,
   "metadata": {},
   "outputs": [],
   "source": [
    "new_q2 = 'Sign up to become a paid customer and get an exclusive discount on your next purchase of $50 or more'"
   ]
  },
  {
   "cell_type": "code",
   "execution_count": 72,
   "metadata": {},
   "outputs": [
    {
     "data": {
      "text/plain": [
       "[(0, 0.022824163),\n",
       " (1, 0.022609036),\n",
       " (2, 0.5788977),\n",
       " (3, 0.35253873),\n",
       " (4, 0.02313039)]"
      ]
     },
     "execution_count": 72,
     "metadata": {},
     "output_type": "execute_result"
    }
   ],
   "source": [
    "lda_model5[id2word.doc2bow(prepare_input(new_q2))]"
   ]
  },
  {
   "cell_type": "code",
   "execution_count": 73,
   "metadata": {},
   "outputs": [
    {
     "data": {
      "text/plain": [
       "[(0, 0.048912156), (1, 0.28459793), (2, 0.6664899)]"
      ]
     },
     "execution_count": 73,
     "metadata": {},
     "output_type": "execute_result"
    }
   ],
   "source": [
    "lda_model3[id2word.doc2bow(prepare_input(new_q2))]"
   ]
  },
  {
   "cell_type": "code",
   "execution_count": 74,
   "metadata": {},
   "outputs": [
    {
     "data": {
      "text/plain": [
       "[(0, 0.015955722),\n",
       " (1, 0.01595357),\n",
       " (2, 0.22907962),\n",
       " (3, 0.015976027),\n",
       " (4, 0.6911628),\n",
       " (5, 0.015919302),\n",
       " (6, 0.015952922)]"
      ]
     },
     "execution_count": 74,
     "metadata": {},
     "output_type": "execute_result"
    }
   ],
   "source": [
    "lda_model7[id2word.doc2bow(prepare_input(new_q2))]"
   ]
  },
  {
   "cell_type": "markdown",
   "metadata": {},
   "source": [
    "## Conclusion"
   ]
  },
  {
   "cell_type": "code",
   "execution_count": null,
   "metadata": {},
   "outputs": [],
   "source": []
  }
 ],
 "metadata": {
  "kernelspec": {
   "display_name": "Python 3",
   "language": "python",
   "name": "python3"
  },
  "language_info": {
   "codemirror_mode": {
    "name": "ipython",
    "version": 3
   },
   "file_extension": ".py",
   "mimetype": "text/x-python",
   "name": "python",
   "nbconvert_exporter": "python",
   "pygments_lexer": "ipython3",
   "version": "3.7.7"
  }
 },
 "nbformat": 4,
 "nbformat_minor": 2
}
