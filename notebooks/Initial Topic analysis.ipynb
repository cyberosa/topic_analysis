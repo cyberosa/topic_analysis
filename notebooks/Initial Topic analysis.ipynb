{
 "cells": [
  {
   "cell_type": "code",
   "execution_count": 1,
   "metadata": {},
   "outputs": [],
   "source": [
    "%matplotlib inline\n",
    "import pandas as pd\n",
    "import numpy as np\n",
    "import matplotlib.pyplot as plt\n",
    "import gensim\n",
    "import nltk\n",
    "import re\n",
    "import gensim.corpora as corpora\n",
    "from gensim.utils import simple_preprocess\n",
    "from time import time\n",
    "from nltk.corpus import stopwords\n",
    "from nltk.stem.porter import PorterStemmer\n",
    "from pprint import pprint"
   ]
  },
  {
   "cell_type": "markdown",
   "metadata": {},
   "source": [
    "# Load and prepare documents"
   ]
  },
  {
   "cell_type": "code",
   "execution_count": 2,
   "metadata": {},
   "outputs": [],
   "source": [
    "df = pd.read_pickle(\"../data/cleaned_df\")"
   ]
  },
  {
   "cell_type": "code",
   "execution_count": 3,
   "metadata": {},
   "outputs": [
    {
     "data": {
      "text/html": [
       "<div>\n",
       "<style scoped>\n",
       "    .dataframe tbody tr th:only-of-type {\n",
       "        vertical-align: middle;\n",
       "    }\n",
       "\n",
       "    .dataframe tbody tr th {\n",
       "        vertical-align: top;\n",
       "    }\n",
       "\n",
       "    .dataframe thead th {\n",
       "        text-align: right;\n",
       "    }\n",
       "</style>\n",
       "<table border=\"1\" class=\"dataframe\">\n",
       "  <thead>\n",
       "    <tr style=\"text-align: right;\">\n",
       "      <th></th>\n",
       "      <th>question</th>\n",
       "      <th>cleaned</th>\n",
       "      <th>length</th>\n",
       "      <th>wc</th>\n",
       "    </tr>\n",
       "  </thead>\n",
       "  <tbody>\n",
       "    <tr>\n",
       "      <th>0</th>\n",
       "      <td>Are you there?</td>\n",
       "      <td>are you there</td>\n",
       "      <td>13</td>\n",
       "      <td>3</td>\n",
       "    </tr>\n",
       "    <tr>\n",
       "      <th>1</th>\n",
       "      <td>Firstname:</td>\n",
       "      <td>firstname</td>\n",
       "      <td>9</td>\n",
       "      <td>1</td>\n",
       "    </tr>\n",
       "    <tr>\n",
       "      <th>2</th>\n",
       "      <td>I get irritated easily.</td>\n",
       "      <td>i get irritated easily</td>\n",
       "      <td>22</td>\n",
       "      <td>4</td>\n",
       "    </tr>\n",
       "    <tr>\n",
       "      <th>3</th>\n",
       "      <td>Comments</td>\n",
       "      <td>comments</td>\n",
       "      <td>8</td>\n",
       "      <td>1</td>\n",
       "    </tr>\n",
       "    <tr>\n",
       "      <th>4</th>\n",
       "      <td>Let's do a survey about exercising?</td>\n",
       "      <td>lets do a survey about exercising</td>\n",
       "      <td>33</td>\n",
       "      <td>6</td>\n",
       "    </tr>\n",
       "  </tbody>\n",
       "</table>\n",
       "</div>"
      ],
      "text/plain": [
       "                              question                            cleaned  \\\n",
       "0                       Are you there?                      are you there   \n",
       "1                           Firstname:                          firstname   \n",
       "2              I get irritated easily.             i get irritated easily   \n",
       "3                             Comments                           comments   \n",
       "4  Let's do a survey about exercising?  lets do a survey about exercising   \n",
       "\n",
       "   length  wc  \n",
       "0      13   3  \n",
       "1       9   1  \n",
       "2      22   4  \n",
       "3       8   1  \n",
       "4      33   6  "
      ]
     },
     "execution_count": 3,
     "metadata": {},
     "output_type": "execute_result"
    }
   ],
   "source": [
    "df.head()"
   ]
  },
  {
   "cell_type": "code",
   "execution_count": 4,
   "metadata": {},
   "outputs": [
    {
     "name": "stderr",
     "output_type": "stream",
     "text": [
      "[nltk_data] Downloading package stopwords to\n",
      "[nltk_data]     C:\\Users\\ARosa\\AppData\\Roaming\\nltk_data...\n",
      "[nltk_data]   Package stopwords is already up-to-date!\n"
     ]
    }
   ],
   "source": [
    "nltk.download('stopwords')\n",
    "stop_words = stopwords.words('english')\n",
    "# words from the wordcloud\n",
    "stop_words.extend(['thank', 'please', 'whats', 'thanks', 'email', 'would', 'us', 'will', 'address', \n",
    "                   'question', 'questions', 'many', 'must', 'could', 'should'])"
   ]
  },
  {
   "cell_type": "code",
   "execution_count": 5,
   "metadata": {},
   "outputs": [],
   "source": [
    "def stemming(docs):\n",
    "    porter_stemmer=nltk.PorterStemmer()\n",
    "    return [[porter_stemmer.stem(word) for word in doc] for doc in docs]\n",
    "\n",
    "# simple_preprocess: it lowercases, tokenizes, de-accents (optional) with deacc\n",
    "def extract_words(questions):\n",
    "    for q in questions:\n",
    "        # deacc=True removes punctuations\n",
    "        yield(simple_preprocess(str(q), deacc=True))\n",
    "        \n",
    "def remove_stopwords(docs):\n",
    "    # docs is a list of document. A document being a list of words\n",
    "    return [[word for word in simple_preprocess(str(doc)) \n",
    "             if word not in stop_words] for doc in docs]\n",
    "                "
   ]
  },
  {
   "cell_type": "code",
   "execution_count": 6,
   "metadata": {},
   "outputs": [
    {
     "data": {
      "text/plain": [
       "['are you there',\n",
       " 'firstname',\n",
       " 'i get irritated easily',\n",
       " 'comments',\n",
       " 'lets do a survey about exercising',\n",
       " 'do you like our design',\n",
       " 'thank you you are part of us now we will contact you with surprises soon',\n",
       " 'have you ever paid for a service like this before',\n",
       " 'what type of services are you interested in',\n",
       " 'would you recommend indivirtual to other clients']"
      ]
     },
     "execution_count": 6,
     "metadata": {},
     "output_type": "execute_result"
    }
   ],
   "source": [
    "data = df.cleaned.values.tolist()\n",
    "data[:10]"
   ]
  },
  {
   "cell_type": "code",
   "execution_count": 7,
   "metadata": {},
   "outputs": [
    {
     "data": {
      "text/plain": [
       "[['are', 'you', 'there'],\n",
       " ['firstname'],\n",
       " ['get', 'irritated', 'easily'],\n",
       " ['comments'],\n",
       " ['lets', 'do', 'survey', 'about', 'exercising'],\n",
       " ['do', 'you', 'like', 'our', 'design'],\n",
       " ['thank',\n",
       "  'you',\n",
       "  'you',\n",
       "  'are',\n",
       "  'part',\n",
       "  'of',\n",
       "  'us',\n",
       "  'now',\n",
       "  'we',\n",
       "  'will',\n",
       "  'contact',\n",
       "  'you',\n",
       "  'with',\n",
       "  'surprises',\n",
       "  'soon'],\n",
       " ['have', 'you', 'ever', 'paid', 'for', 'service', 'like', 'this', 'before'],\n",
       " ['what', 'type', 'of', 'services', 'are', 'you', 'interested', 'in'],\n",
       " ['would', 'you', 'recommend', 'indivirtual', 'to', 'other', 'clients']]"
      ]
     },
     "execution_count": 7,
     "metadata": {},
     "output_type": "execute_result"
    }
   ],
   "source": [
    "corpus = list(extract_words(data))\n",
    "corpus[:10]"
   ]
  },
  {
   "cell_type": "code",
   "execution_count": 8,
   "metadata": {},
   "outputs": [
    {
     "data": {
      "text/plain": [
       "4306"
      ]
     },
     "execution_count": 8,
     "metadata": {},
     "output_type": "execute_result"
    }
   ],
   "source": [
    "corpus_sw = remove_stopwords(corpus)\n",
    "len(corpus_sw)"
   ]
  },
  {
   "cell_type": "code",
   "execution_count": 9,
   "metadata": {},
   "outputs": [
    {
     "data": {
      "text/plain": [
       "[[],\n",
       " ['firstname'],\n",
       " ['get', 'irritated', 'easily'],\n",
       " ['comments'],\n",
       " ['lets', 'survey', 'exercising'],\n",
       " ['like', 'design'],\n",
       " ['part', 'contact', 'surprises', 'soon'],\n",
       " ['ever', 'paid', 'service', 'like'],\n",
       " ['type', 'services', 'interested'],\n",
       " ['recommend', 'indivirtual', 'clients']]"
      ]
     },
     "execution_count": 9,
     "metadata": {},
     "output_type": "execute_result"
    }
   ],
   "source": [
    "corpus_sw[:10]"
   ]
  },
  {
   "cell_type": "markdown",
   "metadata": {},
   "source": [
    "We might have now some empty lists. Need to remove them."
   ]
  },
  {
   "cell_type": "code",
   "execution_count": 10,
   "metadata": {},
   "outputs": [],
   "source": [
    "def remove_empty_list(docs):\n",
    "    return [doc for doc in docs if len(doc)>0]   "
   ]
  },
  {
   "cell_type": "code",
   "execution_count": 11,
   "metadata": {},
   "outputs": [],
   "source": [
    "final_corpus = remove_empty_list(corpus_sw)"
   ]
  },
  {
   "cell_type": "code",
   "execution_count": 12,
   "metadata": {},
   "outputs": [],
   "source": [
    "final_corpus_stem = stemming(final_corpus)"
   ]
  },
  {
   "cell_type": "code",
   "execution_count": 13,
   "metadata": {},
   "outputs": [
    {
     "data": {
      "text/plain": [
       "[['firstnam'],\n",
       " ['get', 'irrit', 'easili'],\n",
       " ['comment'],\n",
       " ['let', 'survey', 'exercis'],\n",
       " ['like', 'design'],\n",
       " ['part', 'contact', 'surpris', 'soon'],\n",
       " ['ever', 'paid', 'servic', 'like'],\n",
       " ['type', 'servic', 'interest'],\n",
       " ['recommend', 'indivirtu', 'client'],\n",
       " ['select', 'bunch', 'stuff']]"
      ]
     },
     "execution_count": 13,
     "metadata": {},
     "output_type": "execute_result"
    }
   ],
   "source": [
    "final_corpus_stem[:10]"
   ]
  },
  {
   "cell_type": "code",
   "execution_count": 14,
   "metadata": {},
   "outputs": [],
   "source": [
    "# Create Dictionary\n",
    "id2word = corpora.Dictionary(final_corpus_stem)\n",
    "\n",
    "# Convert document (a list of words) into the bag-of-words\n",
    "# Each word is assumed to be a tokenized and normalized ( (either unicode or utf8-encoded).)\n",
    "corpus = [id2word.doc2bow(doc) for doc in final_corpus_stem]"
   ]
  },
  {
   "cell_type": "code",
   "execution_count": 15,
   "metadata": {},
   "outputs": [
    {
     "data": {
      "text/plain": [
       "[[(0, 1)],\n",
       " [(1, 1), (2, 1), (3, 1)],\n",
       " [(4, 1)],\n",
       " [(5, 1), (6, 1), (7, 1)],\n",
       " [(8, 1), (9, 1)],\n",
       " [(10, 1), (11, 1), (12, 1), (13, 1)],\n",
       " [(9, 1), (14, 1), (15, 1), (16, 1)],\n",
       " [(16, 1), (17, 1), (18, 1)],\n",
       " [(19, 1), (20, 1), (21, 1)],\n",
       " [(22, 1), (23, 1), (24, 1)]]"
      ]
     },
     "execution_count": 15,
     "metadata": {},
     "output_type": "execute_result"
    }
   ],
   "source": [
    "corpus[:10]"
   ]
  },
  {
   "cell_type": "markdown",
   "metadata": {},
   "source": [
    "# LDA Algorithm\n",
    "https://highdemandskills.com/topic-modeling-intuitive/"
   ]
  },
  {
   "cell_type": "markdown",
   "metadata": {},
   "source": [
    "## LDA Assumptions\n",
    "\n",
    "* The semantic content of a document is composed by combining one or more terms from one or more topics.\n",
    "\n",
    "* Certain terms are ambiguous, belonging to more than one topic, with different probability. (For example, the term training can apply to both dogs and cats, but are more likely to refer to dogs, which are used as work animals or participate in obedience or skill competitions.) However, in a document, the accompanying presence of specific neighboring terms (which belong to only one topic) will disambiguate their usage.\n",
    "\n",
    "* Most documents will contain only a relatively small number of topics. In the collection, e.g., individual topics will occur with differing frequencies. That is, they have a probability distribution, so that a given document is more likely to contain some topics than others.\n",
    "\n",
    "* Within a topic, certain terms will be used much more frequently than others. In other words, the terms within a topic will also have their own probability distribution."
   ]
  },
  {
   "cell_type": "markdown",
   "metadata": {},
   "source": [
    "## LDA Parameters"
   ]
  },
  {
   "cell_type": "markdown",
   "metadata": {},
   "source": [
    "   **Alpha parameter**: is Dirichlet prior concentration parameter that represents document-topic density — it relates to the distribution of topics in documents.\n",
    "\n",
    "   **Eta parameter** (beta in some doc): represents topic-word density — it relates to the distribution of words in topics."
   ]
  },
  {
   "cell_type": "markdown",
   "metadata": {},
   "source": [
    "Lower values will lead to distributions that are more dispersed. We can let the model learn alpha and beta values for us, allowing to learn asymmetric vectors."
   ]
  },
  {
   "cell_type": "markdown",
   "metadata": {},
   "source": [
    "It would be nice to use *ldamulticore* to parallelize and speed up model training but it does not support the auto parameters.\n",
    "*NotImplementedError: auto-tuning alpha not implemented in multicore LDA; use plain LdaModel.*"
   ]
  },
  {
   "cell_type": "markdown",
   "metadata": {},
   "source": [
    "# LDA 5 Topics"
   ]
  },
  {
   "cell_type": "code",
   "execution_count": 16,
   "metadata": {},
   "outputs": [
    {
     "name": "stdout",
     "output_type": "stream",
     "text": [
      "[(0,\n",
      "  '0.165*\"requir\" + 0.148*\"dietari\" + 0.042*\"name\" + 0.013*\"time\" + '\n",
      "  '0.010*\"number\" + 0.010*\"much\" + 0.008*\"comment\" + 0.008*\"enter\" + '\n",
      "  '0.007*\"use\" + 0.007*\"compani\"'),\n",
      " (1,\n",
      "  '0.127*\"like\" + 0.076*\"softwar\" + 0.076*\"page\" + 0.075*\"appear\" + '\n",
      "  '0.072*\"use\" + 0.062*\"item\" + 0.055*\"want\" + 0.053*\"usual\" + '\n",
      "  '0.046*\"notstrong\" + 0.038*\"often\"'),\n",
      " (2,\n",
      "  '0.157*\"say\" + 0.154*\"littl\" + 0.011*\"like\" + 0.010*\"project\" + '\n",
      "  '0.008*\"provid\" + 0.008*\"interest\" + 0.007*\"help\" + 0.007*\"share\" + '\n",
      "  '0.006*\"anyth\" + 0.006*\"current\"'),\n",
      " (3,\n",
      "  '0.012*\"like\" + 0.010*\"tell\" + 0.010*\"take\" + 0.010*\"type\" + '\n",
      "  '0.009*\"feedback\" + 0.009*\"answer\" + 0.008*\"describ\" + 0.008*\"want\" + '\n",
      "  '0.008*\"best\" + 0.008*\"survey\"'),\n",
      " (4,\n",
      "  '0.080*\"think\" + 0.078*\"click\" + 0.078*\"strongif\" + 0.078*\"success\" + '\n",
      "  '0.078*\"handl\" + 0.078*\"twitter\" + 0.071*\"home\" + 0.045*\"like\" + '\n",
      "  '0.040*\"often\" + 0.024*\"notstrong\"')]\n"
     ]
    }
   ],
   "source": [
    "# let´s start with 5 topics\n",
    "num_topics = 5\n",
    "\n",
    "# Build LDA model, learn asymmetric alpha from data\n",
    "lda_model5 = gensim.models.LdaModel(corpus=corpus,\n",
    "                                       id2word=id2word,\n",
    "                                       alpha='auto',\n",
    "                                       eta='auto',\n",
    "                                       num_topics=num_topics,\n",
    "                                       random_state=42)\n",
    "\n",
    "# Print the key words for the 5 topics\n",
    "pprint(lda_model5.print_topics())"
   ]
  },
  {
   "cell_type": "code",
   "execution_count": 17,
   "metadata": {},
   "outputs": [
    {
     "data": {
      "text/plain": [
       "array([0.16284077, 0.17981362, 0.15835455, 0.13282692, 0.20223586],\n",
       "      dtype=float32)"
      ]
     },
     "execution_count": 17,
     "metadata": {},
     "output_type": "execute_result"
    }
   ],
   "source": [
    "lda_model5.alpha"
   ]
  },
  {
   "cell_type": "markdown",
   "metadata": {},
   "source": [
    "# LDA 3 Topics"
   ]
  },
  {
   "cell_type": "code",
   "execution_count": 53,
   "metadata": {},
   "outputs": [],
   "source": [
    "num_topics = 3\n",
    "lda_model3 = gensim.models.LdaModel(corpus=corpus,\n",
    "                                       id2word=id2word,\n",
    "                                       alpha='auto',\n",
    "                                       eta='auto',\n",
    "                                       num_topics=num_topics,\n",
    "                                       random_state=42)\n"
   ]
  },
  {
   "cell_type": "code",
   "execution_count": 54,
   "metadata": {},
   "outputs": [
    {
     "name": "stdout",
     "output_type": "stream",
     "text": [
      "[(0,\n",
      "  '0.083*\"littl\" + 0.083*\"handl\" + 0.083*\"twitter\" + 0.074*\"strongif\" + '\n",
      "  '0.073*\"say\" + 0.021*\"name\" + 0.014*\"notstrong\" + 0.013*\"use\" + 0.008*\"time\" '\n",
      "  '+ 0.007*\"home\"'),\n",
      " (1,\n",
      "  '0.114*\"like\" + 0.052*\"often\" + 0.051*\"item\" + 0.050*\"page\" + 0.050*\"appear\" '\n",
      "  '+ 0.050*\"usual\" + 0.050*\"click\" + 0.050*\"use\" + 0.050*\"softwar\" + '\n",
      "  '0.049*\"want\"'),\n",
      " (2,\n",
      "  '0.097*\"think\" + 0.089*\"success\" + 0.086*\"requir\" + 0.080*\"dietari\" + '\n",
      "  '0.012*\"say\" + 0.009*\"like\" + 0.007*\"want\" + 0.007*\"project\" + 0.006*\"one\" + '\n",
      "  '0.006*\"provid\"')]\n"
     ]
    }
   ],
   "source": [
    "# Print the key words for the 3 topics\n",
    "pprint(lda_model3.print_topics())"
   ]
  },
  {
   "cell_type": "code",
   "execution_count": 55,
   "metadata": {},
   "outputs": [
    {
     "data": {
      "text/plain": [
       "array([0.37181285, 0.35028467, 0.3230608 ], dtype=float32)"
      ]
     },
     "execution_count": 55,
     "metadata": {},
     "output_type": "execute_result"
    }
   ],
   "source": [
    "lda_model3.alpha"
   ]
  },
  {
   "cell_type": "markdown",
   "metadata": {},
   "source": [
    "# LDA 7 Topics"
   ]
  },
  {
   "cell_type": "code",
   "execution_count": 56,
   "metadata": {},
   "outputs": [],
   "source": [
    "num_topics = 7\n",
    "lda_model7 = gensim.models.LdaModel(corpus=corpus,\n",
    "                                       id2word=id2word,\n",
    "                                       alpha='auto',\n",
    "                                       eta='auto',\n",
    "                                       num_topics=num_topics,\n",
    "                                       random_state=42)"
   ]
  },
  {
   "cell_type": "code",
   "execution_count": 57,
   "metadata": {},
   "outputs": [
    {
     "name": "stdout",
     "output_type": "stream",
     "text": [
      "[(0,\n",
      "  '0.209*\"home\" + 0.064*\"name\" + 0.015*\"number\" + 0.014*\"time\" + '\n",
      "  '0.013*\"comment\" + 0.012*\"use\" + 0.010*\"first\" + 0.009*\"usual\" + '\n",
      "  '0.009*\"phone\" + 0.008*\"rate\"'),\n",
      " (1,\n",
      "  '0.146*\"like\" + 0.085*\"say\" + 0.085*\"softwar\" + 0.080*\"appear\" + '\n",
      "  '0.077*\"usual\" + 0.076*\"page\" + 0.074*\"use\" + 0.073*\"want\" + '\n",
      "  '0.042*\"notstrong\" + 0.018*\"home\"'),\n",
      " (2,\n",
      "  '0.019*\"provid\" + 0.015*\"share\" + 0.014*\"like\" + 0.012*\"interest\" + '\n",
      "  '0.011*\"help\" + 0.010*\"contact\" + 0.010*\"current\" + 0.009*\"websit\" + '\n",
      "  '0.008*\"locat\" + 0.008*\"team\"'),\n",
      " (3,\n",
      "  '0.166*\"item\" + 0.165*\"handl\" + 0.165*\"twitter\" + 0.008*\"usual\" + '\n",
      "  '0.008*\"take\" + 0.007*\"survey\" + 0.007*\"favorit\" + 0.006*\"answer\" + '\n",
      "  '0.006*\"welcom\" + 0.005*\"page\"'),\n",
      " (4,\n",
      "  '0.030*\"like\" + 0.017*\"one\" + 0.015*\"compani\" + 0.013*\"work\" + '\n",
      "  '0.013*\"servic\" + 0.012*\"see\" + 0.010*\"find\" + 0.010*\"choos\" + 0.008*\"use\" + '\n",
      "  '0.008*\"form\"'),\n",
      " (5,\n",
      "  '0.104*\"click\" + 0.104*\"requir\" + 0.103*\"strongif\" + 0.103*\"success\" + '\n",
      "  '0.096*\"often\" + 0.058*\"dietari\" + 0.044*\"like\" + 0.021*\"use\" + '\n",
      "  '0.016*\"notstrong\" + 0.016*\"want\"'),\n",
      " (6,\n",
      "  '0.239*\"littl\" + 0.206*\"think\" + 0.016*\"like\" + 0.013*\"tell\" + 0.010*\"know\" '\n",
      "  '+ 0.006*\"let\" + 0.006*\"anyth\" + 0.005*\"els\" + 0.005*\"good\" + 0.004*\"code\"')]\n"
     ]
    }
   ],
   "source": [
    "# Print the key words for the 7 topics\n",
    "pprint(lda_model7.print_topics())"
   ]
  },
  {
   "cell_type": "code",
   "execution_count": 58,
   "metadata": {},
   "outputs": [
    {
     "data": {
      "text/plain": [
       "array([0.12780488, 0.14915903, 0.1082952 , 0.13431914, 0.10686952,\n",
       "       0.16146621, 0.12388392], dtype=float32)"
      ]
     },
     "execution_count": 58,
     "metadata": {},
     "output_type": "execute_result"
    }
   ],
   "source": [
    "lda_model7.alpha"
   ]
  },
  {
   "cell_type": "markdown",
   "metadata": {},
   "source": [
    "# Asking topic distribution per documents"
   ]
  },
  {
   "cell_type": "code",
   "execution_count": 60,
   "metadata": {},
   "outputs": [
    {
     "data": {
      "text/plain": [
       "[(0, 0.18982075), (1, 0.6340801), (2, 0.17609918)]"
      ]
     },
     "execution_count": 60,
     "metadata": {},
     "output_type": "execute_result"
    }
   ],
   "source": [
    "lda_model3[corpus[10]]"
   ]
  },
  {
   "cell_type": "code",
   "execution_count": 61,
   "metadata": {},
   "outputs": [
    {
     "data": {
      "text/plain": [
       "[(0, 0.08910584),\n",
       " (1, 0.6409402),\n",
       " (2, 0.087271795),\n",
       " (3, 0.07242397),\n",
       " (4, 0.110258244)]"
      ]
     },
     "execution_count": 61,
     "metadata": {},
     "output_type": "execute_result"
    }
   ],
   "source": [
    "lda_model5[corpus[10]]"
   ]
  },
  {
   "cell_type": "code",
   "execution_count": 62,
   "metadata": {},
   "outputs": [
    {
     "data": {
      "text/plain": [
       "[(0, 0.0668877),\n",
       " (1, 0.078480214),\n",
       " (2, 0.57913595),\n",
       " (3, 0.07030147),\n",
       " (4, 0.055912502),\n",
       " (5, 0.08446567),\n",
       " (6, 0.06481648)]"
      ]
     },
     "execution_count": 62,
     "metadata": {},
     "output_type": "execute_result"
    }
   ],
   "source": [
    "lda_model7[corpus[10]]"
   ]
  },
  {
   "cell_type": "markdown",
   "metadata": {},
   "source": [
    "For such a small amount of documents, maybe it makes more sense to have less topics, increasing the probability of each document to be represented by one of them."
   ]
  },
  {
   "cell_type": "code",
   "execution_count": 23,
   "metadata": {},
   "outputs": [],
   "source": [
    "def topics_doc_to_df(topics_doc, num_topics):\n",
    "    res = pd.DataFrame(columns=range(num_topics))\n",
    "    for topic_weight in topics_doc:\n",
    "        res.loc[0, topic_weight[0]] = topic_weight[1]\n",
    "    return res\n",
    "\n",
    "def get_docs_dist_per_topic(model, corpus, num_topics):\n",
    "    topics = [model[corpus[i]] for i in range(len(corpus))]\n",
    "    # topic weighting matrix\n",
    "    topics_df = pd.concat([topics_doc_to_df(topics_doc, num_topics) \n",
    "                                for topics_doc in topics]).reset_index(drop=True).fillna(0)\n",
    "    return topics_df"
   ]
  },
  {
   "cell_type": "code",
   "execution_count": 64,
   "metadata": {},
   "outputs": [],
   "source": [
    "topics5_df = get_docs_dist_per_topic(lda_model5, corpus, 5)\n",
    "topics3_df = get_docs_dist_per_topic(lda_model3, corpus, 3)\n",
    "topics7_df = get_docs_dist_per_topic(lda_model7, corpus, 7)"
   ]
  },
  {
   "cell_type": "code",
   "execution_count": 65,
   "metadata": {},
   "outputs": [
    {
     "data": {
      "text/plain": [
       "<matplotlib.axes._subplots.AxesSubplot at 0x1f2cbdc98c8>"
      ]
     },
     "execution_count": 65,
     "metadata": {},
     "output_type": "execute_result"
    },
    {
     "data": {
      "image/png": "[encoded data removed]",
      "text/plain": [
       "<Figure size 432x288 with 1 Axes>"
      ]
     },
     "metadata": {
      "needs_background": "light"
     },
     "output_type": "display_data"
    }
   ],
   "source": [
    "topics3_df.idxmax(axis=1).value_counts().plot.bar(color='green')"
   ]
  },
  {
   "cell_type": "code",
   "execution_count": 66,
   "metadata": {},
   "outputs": [
    {
     "data": {
      "text/html": [
       "<div>\n",
       "<style scoped>\n",
       "    .dataframe tbody tr th:only-of-type {\n",
       "        vertical-align: middle;\n",
       "    }\n",
       "\n",
       "    .dataframe tbody tr th {\n",
       "        vertical-align: top;\n",
       "    }\n",
       "\n",
       "    .dataframe thead th {\n",
       "        text-align: right;\n",
       "    }\n",
       "</style>\n",
       "<table border=\"1\" class=\"dataframe\">\n",
       "  <thead>\n",
       "    <tr style=\"text-align: right;\">\n",
       "      <th></th>\n",
       "      <th>0</th>\n",
       "      <th>1</th>\n",
       "      <th>2</th>\n",
       "      <th>3</th>\n",
       "      <th>4</th>\n",
       "    </tr>\n",
       "  </thead>\n",
       "  <tbody>\n",
       "    <tr>\n",
       "      <th>0</th>\n",
       "      <td>0.088747</td>\n",
       "      <td>0.097994</td>\n",
       "      <td>0.630653</td>\n",
       "      <td>0.072385</td>\n",
       "      <td>0.110222</td>\n",
       "    </tr>\n",
       "    <tr>\n",
       "      <th>1</th>\n",
       "      <td>0.042804</td>\n",
       "      <td>0.825166</td>\n",
       "      <td>0.041752</td>\n",
       "      <td>0.034775</td>\n",
       "      <td>0.055504</td>\n",
       "    </tr>\n",
       "    <tr>\n",
       "      <th>2</th>\n",
       "      <td>0.632803</td>\n",
       "      <td>0.098185</td>\n",
       "      <td>0.086519</td>\n",
       "      <td>0.072344</td>\n",
       "      <td>0.110149</td>\n",
       "    </tr>\n",
       "    <tr>\n",
       "      <th>3</th>\n",
       "      <td>0.042809</td>\n",
       "      <td>0.046909</td>\n",
       "      <td>0.822729</td>\n",
       "      <td>0.034753</td>\n",
       "      <td>0.052801</td>\n",
       "    </tr>\n",
       "    <tr>\n",
       "      <th>4</th>\n",
       "      <td>0.057568</td>\n",
       "      <td>0.381302</td>\n",
       "      <td>0.441407</td>\n",
       "      <td>0.046870</td>\n",
       "      <td>0.072854</td>\n",
       "    </tr>\n",
       "  </tbody>\n",
       "</table>\n",
       "</div>"
      ],
      "text/plain": [
       "          0         1         2         3         4\n",
       "0  0.088747  0.097994  0.630653  0.072385  0.110222\n",
       "1  0.042804  0.825166  0.041752  0.034775  0.055504\n",
       "2  0.632803  0.098185  0.086519  0.072344  0.110149\n",
       "3  0.042809  0.046909  0.822729  0.034753  0.052801\n",
       "4  0.057568  0.381302  0.441407  0.046870  0.072854"
      ]
     },
     "execution_count": 66,
     "metadata": {},
     "output_type": "execute_result"
    }
   ],
   "source": [
    "topics5_df.head()"
   ]
  },
  {
   "cell_type": "code",
   "execution_count": 67,
   "metadata": {},
   "outputs": [
    {
     "data": {
      "text/plain": [
       "<matplotlib.axes._subplots.AxesSubplot at 0x1f2cbdc3d08>"
      ]
     },
     "execution_count": 67,
     "metadata": {},
     "output_type": "execute_result"
    },
    {
     "data": {
      "image/png": "[encoded data removed]",
      "text/plain": [
       "<Figure size 432x288 with 1 Axes>"
      ]
     },
     "metadata": {},
     "output_type": "display_data"
    }
   ],
   "source": [
    "import seaborn as sns\n",
    "sns.set(style=\"darkgrid\", palette=\"viridis\")\n",
    "topics5_df.idxmax(axis=1).value_counts().plot.bar(color='lightblue')"
   ]
  },
  {
   "cell_type": "code",
   "execution_count": 68,
   "metadata": {},
   "outputs": [
    {
     "data": {
      "text/plain": [
       "<matplotlib.axes._subplots.AxesSubplot at 0x1f2cbc1c888>"
      ]
     },
     "execution_count": 68,
     "metadata": {},
     "output_type": "execute_result"
    },
    {
     "data": {
      "image/png": "[encoded data removed]",
      "text/plain": [
       "<Figure size 432x288 with 1 Axes>"
      ]
     },
     "metadata": {},
     "output_type": "display_data"
    }
   ],
   "source": [
    "topics7_df.idxmax(axis=1).value_counts().plot.bar(color='purple')"
   ]
  },
  {
   "cell_type": "markdown",
   "metadata": {},
   "source": [
    "# Visualizing the topics"
   ]
  },
  {
   "cell_type": "code",
   "execution_count": 69,
   "metadata": {},
   "outputs": [],
   "source": [
    "import pickle \n",
    "import pyLDAvis\n",
    "import pyLDAvis.gensim_models as gensimvis\n",
    "import os"
   ]
  },
  {
   "cell_type": "code",
   "execution_count": 70,
   "metadata": {},
   "outputs": [],
   "source": [
    "def generate_html_vis_file(model, num_topics, id2word, corpus):\n",
    "    # Visualize the topics\n",
    "    pyLDAvis.enable_notebook()\n",
    "    LDAvis_filepath = os.path.join('../data/ldavis_'+str(num_topics)+'_topics')\n",
    "    \n",
    "    # feed the LDA model into the pyLDAvis instance\n",
    "    LDAvis_prepared = gensimvis.prepare(model, corpus, id2word)\n",
    "    with open(LDAvis_filepath, 'wb') as f:\n",
    "            pickle.dump(LDAvis_prepared, f)\n",
    "    with open(LDAvis_filepath, 'rb') as f:\n",
    "        LDAvis_prepared = pickle.load(f)\n",
    "    pyLDAvis.save_html(LDAvis_prepared, '../data/ldavis_'+ str(num_topics)+'_topics' +'.html')"
   ]
  },
  {
   "cell_type": "code",
   "execution_count": 71,
   "metadata": {},
   "outputs": [],
   "source": [
    "generate_html_vis_file(lda_model3, 3, id2word, corpus)"
   ]
  },
  {
   "cell_type": "code",
   "execution_count": 72,
   "metadata": {},
   "outputs": [],
   "source": [
    "generate_html_vis_file(lda_model5, 5, id2word, corpus)"
   ]
  },
  {
   "cell_type": "code",
   "execution_count": 73,
   "metadata": {},
   "outputs": [],
   "source": [
    "generate_html_vis_file(lda_model7, 7, id2word, corpus)"
   ]
  },
  {
   "cell_type": "markdown",
   "metadata": {},
   "source": [
    "Setting lambda = 1 results in the familiar ranking of terms in decreasing order of their topic-specific probability, \n",
    "and setting lambda = 0 ranks terms solely by their lift. We wish to learn an “optimal” value of lambda for topic interpretation."
   ]
  },
  {
   "cell_type": "markdown",
   "metadata": {},
   "source": [
    "See https://nlp.stanford.edu/events/illvi2014/papers/sievert-illvi2014.pdf page 4 to interpret lambda formula."
   ]
  },
  {
   "cell_type": "markdown",
   "metadata": {},
   "source": [
    "# Predicting new documents"
   ]
  },
  {
   "cell_type": "code",
   "execution_count": 74,
   "metadata": {},
   "outputs": [],
   "source": [
    "new_q = \"Which is your job role?\""
   ]
  },
  {
   "cell_type": "markdown",
   "metadata": {},
   "source": [
    "We need to repeat the same cleaning steps as we did for the topic analysis."
   ]
  },
  {
   "cell_type": "code",
   "execution_count": 75,
   "metadata": {},
   "outputs": [],
   "source": [
    "def prepare_input(text):\n",
    "    text = re.sub(r'[^A-Za-z0-9 ]+', '', text)\n",
    "    tokens = simple_preprocess(text, deacc=True)\n",
    "    cleaned_tokens = [token for token in tokens if token not in stop_words]\n",
    "    porter_stemmer=nltk.PorterStemmer()\n",
    "    return [porter_stemmer.stem(word) for word in cleaned_tokens]"
   ]
  },
  {
   "cell_type": "code",
   "execution_count": 76,
   "metadata": {},
   "outputs": [
    {
     "data": {
      "text/plain": [
       "['job', 'role']"
      ]
     },
     "execution_count": 76,
     "metadata": {},
     "output_type": "execute_result"
    }
   ],
   "source": [
    "doc = prepare_input(new_q)\n",
    "doc"
   ]
  },
  {
   "cell_type": "code",
   "execution_count": 77,
   "metadata": {},
   "outputs": [
    {
     "data": {
      "text/plain": [
       "[(0, 0.057448067),\n",
       " (1, 0.06340653),\n",
       " (2, 0.05583961),\n",
       " (3, 0.751859),\n",
       " (4, 0.07144677)]"
      ]
     },
     "execution_count": 77,
     "metadata": {},
     "output_type": "execute_result"
    }
   ],
   "source": [
    "lda_model5[id2word.doc2bow(doc)]"
   ]
  },
  {
   "cell_type": "code",
   "execution_count": 78,
   "metadata": {},
   "outputs": [],
   "source": [
    "new_q2 = 'Sign up to become a paid customer and get an exclusive discount on your next purchase of $50 or more'"
   ]
  },
  {
   "cell_type": "code",
   "execution_count": 79,
   "metadata": {},
   "outputs": [
    {
     "data": {
      "text/plain": [
       "[(0, 0.018627616),\n",
       " (1, 0.020531053),\n",
       " (2, 0.25082472),\n",
       " (3, 0.563172),\n",
       " (4, 0.1468446)]"
      ]
     },
     "execution_count": 79,
     "metadata": {},
     "output_type": "execute_result"
    }
   ],
   "source": [
    "lda_model5[id2word.doc2bow(prepare_input(new_q2))]"
   ]
  },
  {
   "cell_type": "code",
   "execution_count": 80,
   "metadata": {},
   "outputs": [
    {
     "data": {
      "text/plain": [
       "[(0, 0.4698416), (1, 0.043642953), (2, 0.48651543)]"
      ]
     },
     "execution_count": 80,
     "metadata": {},
     "output_type": "execute_result"
    }
   ],
   "source": [
    "lda_model3[id2word.doc2bow(prepare_input(new_q2))]"
   ]
  },
  {
   "cell_type": "code",
   "execution_count": 81,
   "metadata": {},
   "outputs": [
    {
     "data": {
      "text/plain": [
       "[(0, 0.014393203),\n",
       " (1, 0.016777858),\n",
       " (2, 0.012171949),\n",
       " (3, 0.015096987),\n",
       " (4, 0.3687963),\n",
       " (5, 0.55880004),\n",
       " (6, 0.013963635)]"
      ]
     },
     "execution_count": 81,
     "metadata": {},
     "output_type": "execute_result"
    }
   ],
   "source": [
    "lda_model7[id2word.doc2bow(prepare_input(new_q2))]"
   ]
  },
  {
   "cell_type": "markdown",
   "metadata": {},
   "source": [
    "## Conclusion"
   ]
  },
  {
   "cell_type": "markdown",
   "metadata": {},
   "source": [
    "In order to choose the right number of topics for the modeling we need some domain knowledge. Based on the results we have analyzed so far, with 7 topics we start identifying more specific type of questions, though some overlapping also occurs. Besides the volume of 4000 is two small to consider the results relevants if the number of topics is too high."
   ]
  },
  {
   "cell_type": "markdown",
   "metadata": {},
   "source": [
    "By checking the top words of the topics, some potential **tags** could be:\n",
    "1. Feedback from the user by rating some service (like, rate,...)\n",
    "2. Sharing some contact request/social media info (twitter, website,...)\n",
    "3. Requesting some phone/name/gender information or comments\n",
    "4. Requesting some favourite food/music (dietary, personal info,...)"
   ]
  },
  {
   "cell_type": "markdown",
   "metadata": {},
   "source": [
    "Increasing the number of topics gives us more detailed information about each topic but we would need more volumes of text in order to consider the probabilities relevant, since the percentage of documents covered by the topics decreases."
   ]
  },
  {
   "cell_type": "code",
   "execution_count": null,
   "metadata": {},
   "outputs": [],
   "source": []
  }
 ],
 "metadata": {
  "kernelspec": {
   "display_name": "Python 3",
   "language": "python",
   "name": "python3"
  },
  "language_info": {
   "codemirror_mode": {
    "name": "ipython",
    "version": 3
   },
   "file_extension": ".py",
   "mimetype": "text/x-python",
   "name": "python",
   "nbconvert_exporter": "python",
   "pygments_lexer": "ipython3",
   "version": "3.7.7"
  }
 },
 "nbformat": 4,
 "nbformat_minor": 2
}
