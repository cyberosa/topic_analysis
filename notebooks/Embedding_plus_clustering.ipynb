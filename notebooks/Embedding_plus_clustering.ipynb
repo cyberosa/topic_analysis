{
 "cells": [
  {
   "cell_type": "markdown",
   "metadata": {},
   "source": [
    "# Alternative Approach"
   ]
  },
  {
   "cell_type": "code",
   "execution_count": 46,
   "metadata": {},
   "outputs": [],
   "source": [
    "%matplotlib inline\n",
    "import re\n",
    "import numpy as np\n",
    "import pandas as pd\n",
    "import gensim\n",
    "import nltk\n",
    "import pickle\n",
    "import multiprocessing\n",
    "import matplotlib.pyplot as plt\n",
    "from time import time\n",
    "from nltk.corpus import stopwords\n",
    "from nltk.stem.porter import PorterStemmer\n",
    "from gensim.models.doc2vec import Doc2Vec, TaggedDocument\n",
    "from gensim.utils import simple_preprocess\n",
    "from sklearn.cluster import KMeans\n",
    "from nltk.cluster import KMeansClusterer"
   ]
  },
  {
   "cell_type": "markdown",
   "metadata": {},
   "source": [
    "# Text data processing"
   ]
  },
  {
   "cell_type": "code",
   "execution_count": 2,
   "metadata": {},
   "outputs": [
    {
     "data": {
      "text/html": [
       "<div>\n",
       "<style scoped>\n",
       "    .dataframe tbody tr th:only-of-type {\n",
       "        vertical-align: middle;\n",
       "    }\n",
       "\n",
       "    .dataframe tbody tr th {\n",
       "        vertical-align: top;\n",
       "    }\n",
       "\n",
       "    .dataframe thead th {\n",
       "        text-align: right;\n",
       "    }\n",
       "</style>\n",
       "<table border=\"1\" class=\"dataframe\">\n",
       "  <thead>\n",
       "    <tr style=\"text-align: right;\">\n",
       "      <th></th>\n",
       "      <th>question</th>\n",
       "      <th>cleaned</th>\n",
       "      <th>length</th>\n",
       "      <th>wc</th>\n",
       "    </tr>\n",
       "  </thead>\n",
       "  <tbody>\n",
       "    <tr>\n",
       "      <th>0</th>\n",
       "      <td>Are you there?</td>\n",
       "      <td>are you there</td>\n",
       "      <td>13</td>\n",
       "      <td>3</td>\n",
       "    </tr>\n",
       "    <tr>\n",
       "      <th>1</th>\n",
       "      <td>Firstname:</td>\n",
       "      <td>firstname</td>\n",
       "      <td>9</td>\n",
       "      <td>1</td>\n",
       "    </tr>\n",
       "    <tr>\n",
       "      <th>2</th>\n",
       "      <td>I get irritated easily.</td>\n",
       "      <td>i get irritated easily</td>\n",
       "      <td>22</td>\n",
       "      <td>4</td>\n",
       "    </tr>\n",
       "    <tr>\n",
       "      <th>3</th>\n",
       "      <td>Comments</td>\n",
       "      <td>comments</td>\n",
       "      <td>8</td>\n",
       "      <td>1</td>\n",
       "    </tr>\n",
       "    <tr>\n",
       "      <th>4</th>\n",
       "      <td>Let's do a survey about exercising?</td>\n",
       "      <td>lets do a survey about exercising</td>\n",
       "      <td>33</td>\n",
       "      <td>6</td>\n",
       "    </tr>\n",
       "  </tbody>\n",
       "</table>\n",
       "</div>"
      ],
      "text/plain": [
       "                              question                            cleaned  \\\n",
       "0                       Are you there?                      are you there   \n",
       "1                           Firstname:                          firstname   \n",
       "2              I get irritated easily.             i get irritated easily   \n",
       "3                             Comments                           comments   \n",
       "4  Let's do a survey about exercising?  lets do a survey about exercising   \n",
       "\n",
       "   length  wc  \n",
       "0      13   3  \n",
       "1       9   1  \n",
       "2      22   4  \n",
       "3       8   1  \n",
       "4      33   6  "
      ]
     },
     "execution_count": 2,
     "metadata": {},
     "output_type": "execute_result"
    }
   ],
   "source": [
    "df = pd.read_pickle(\"../data/cleaned_df\")\n",
    "df.head()"
   ]
  },
  {
   "cell_type": "code",
   "execution_count": 3,
   "metadata": {},
   "outputs": [
    {
     "name": "stderr",
     "output_type": "stream",
     "text": [
      "[nltk_data] Downloading package stopwords to\n",
      "[nltk_data]     C:\\Users\\ARosa\\AppData\\Roaming\\nltk_data...\n",
      "[nltk_data]   Package stopwords is already up-to-date!\n"
     ]
    }
   ],
   "source": [
    "nltk.download('stopwords')\n",
    "stop_words = stopwords.words('english')\n",
    "# words from the wordcloud\n",
    "stop_words.extend(['thank', 'please', 'whats', 'thanks', 'email', 'would', 'us', 'will', 'address', \n",
    "                   'question', 'questions', 'many', 'must', 'could', 'should'])"
   ]
  },
  {
   "cell_type": "code",
   "execution_count": 4,
   "metadata": {},
   "outputs": [],
   "source": [
    "def stemming(docs):\n",
    "    porter_stemmer=nltk.PorterStemmer()\n",
    "    return [[porter_stemmer.stem(word) for word in doc] for doc in docs]\n",
    "\n",
    "# simple_preprocess: it lowercases, tokenizes, de-accents (optional) with deacc\n",
    "def extract_words(questions):\n",
    "    for q in questions:\n",
    "        # deacc=True removes punctuations\n",
    "        yield(simple_preprocess(str(q), deacc=True))\n",
    "        \n",
    "def remove_stopwords(docs):\n",
    "    # docs is a list of document. A document being a list of words\n",
    "    return [[word for word in simple_preprocess(str(doc)) \n",
    "             if word not in stop_words] for doc in docs]"
   ]
  },
  {
   "cell_type": "code",
   "execution_count": 5,
   "metadata": {},
   "outputs": [
    {
     "data": {
      "text/plain": [
       "['are you there',\n",
       " 'firstname',\n",
       " 'i get irritated easily',\n",
       " 'comments',\n",
       " 'lets do a survey about exercising',\n",
       " 'do you like our design',\n",
       " 'thank you you are part of us now we will contact you with surprises soon',\n",
       " 'have you ever paid for a service like this before',\n",
       " 'what type of services are you interested in',\n",
       " 'would you recommend indivirtual to other clients']"
      ]
     },
     "execution_count": 5,
     "metadata": {},
     "output_type": "execute_result"
    }
   ],
   "source": [
    "data = df.cleaned.values.tolist()\n",
    "data[:10]"
   ]
  },
  {
   "cell_type": "code",
   "execution_count": 6,
   "metadata": {},
   "outputs": [
    {
     "data": {
      "text/plain": [
       "[['are', 'you', 'there'],\n",
       " ['firstname'],\n",
       " ['get', 'irritated', 'easily'],\n",
       " ['comments'],\n",
       " ['lets', 'do', 'survey', 'about', 'exercising'],\n",
       " ['do', 'you', 'like', 'our', 'design'],\n",
       " ['thank',\n",
       "  'you',\n",
       "  'you',\n",
       "  'are',\n",
       "  'part',\n",
       "  'of',\n",
       "  'us',\n",
       "  'now',\n",
       "  'we',\n",
       "  'will',\n",
       "  'contact',\n",
       "  'you',\n",
       "  'with',\n",
       "  'surprises',\n",
       "  'soon'],\n",
       " ['have', 'you', 'ever', 'paid', 'for', 'service', 'like', 'this', 'before'],\n",
       " ['what', 'type', 'of', 'services', 'are', 'you', 'interested', 'in'],\n",
       " ['would', 'you', 'recommend', 'indivirtual', 'to', 'other', 'clients']]"
      ]
     },
     "execution_count": 6,
     "metadata": {},
     "output_type": "execute_result"
    }
   ],
   "source": [
    "corpus = list(extract_words(data))\n",
    "corpus[:10]"
   ]
  },
  {
   "cell_type": "code",
   "execution_count": 7,
   "metadata": {},
   "outputs": [
    {
     "data": {
      "text/plain": [
       "4306"
      ]
     },
     "execution_count": 7,
     "metadata": {},
     "output_type": "execute_result"
    }
   ],
   "source": [
    "corpus_sw = remove_stopwords(corpus)\n",
    "len(corpus_sw)"
   ]
  },
  {
   "cell_type": "code",
   "execution_count": 8,
   "metadata": {},
   "outputs": [],
   "source": [
    "def remove_empty_list(docs):\n",
    "    return [doc for doc in docs if len(doc)>0]   "
   ]
  },
  {
   "cell_type": "code",
   "execution_count": 9,
   "metadata": {},
   "outputs": [],
   "source": [
    "final_corpus = remove_empty_list(corpus_sw)"
   ]
  },
  {
   "cell_type": "code",
   "execution_count": 10,
   "metadata": {},
   "outputs": [
    {
     "data": {
      "text/plain": [
       "[['firstnam'],\n",
       " ['get', 'irrit', 'easili'],\n",
       " ['comment'],\n",
       " ['let', 'survey', 'exercis'],\n",
       " ['like', 'design'],\n",
       " ['part', 'contact', 'surpris', 'soon'],\n",
       " ['ever', 'paid', 'servic', 'like'],\n",
       " ['type', 'servic', 'interest'],\n",
       " ['recommend', 'indivirtu', 'client'],\n",
       " ['select', 'bunch', 'stuff']]"
      ]
     },
     "execution_count": 10,
     "metadata": {},
     "output_type": "execute_result"
    }
   ],
   "source": [
    "final_corpus_stem = stemming(final_corpus)\n",
    "final_corpus_stem[:10]"
   ]
  },
  {
   "cell_type": "code",
   "execution_count": null,
   "metadata": {},
   "outputs": [],
   "source": [
    "# TODO save the corpus as a pickle"
   ]
  },
  {
   "cell_type": "markdown",
   "metadata": {},
   "source": [
    "# Doc2Vec"
   ]
  },
  {
   "cell_type": "markdown",
   "metadata": {},
   "source": [
    "https://radimrehurek.com/gensim/auto_examples/tutorials/run_doc2vec_lee.html#sphx-glr-auto-examples-tutorials-run-doc2vec-lee-py\n",
    "\n",
    "To train the model, we’ll need to associate a tag/number with each document of the training corpus. In our case, the tag is simply the zero-based line number."
   ]
  },
  {
   "cell_type": "code",
   "execution_count": 11,
   "metadata": {},
   "outputs": [],
   "source": [
    "documents = [TaggedDocument(doc, [i]) for i, doc in enumerate(final_corpus_stem)]"
   ]
  },
  {
   "cell_type": "code",
   "execution_count": 12,
   "metadata": {},
   "outputs": [
    {
     "name": "stdout",
     "output_type": "stream",
     "text": [
      "[TaggedDocument(words=['firstnam'], tags=[0]), TaggedDocument(words=['get', 'irrit', 'easili'], tags=[1])]\n"
     ]
    }
   ],
   "source": [
    "print(documents[:2])"
   ]
  },
  {
   "cell_type": "code",
   "execution_count": 13,
   "metadata": {},
   "outputs": [
    {
     "name": "stdout",
     "output_type": "stream",
     "text": [
      "4\n"
     ]
    }
   ],
   "source": [
    "cores = multiprocessing.cpu_count()\n",
    "print(cores)"
   ]
  },
  {
   "cell_type": "code",
   "execution_count": 14,
   "metadata": {},
   "outputs": [
    {
     "data": {
      "text/plain": [
       "4006"
      ]
     },
     "execution_count": 14,
     "metadata": {},
     "output_type": "execute_result"
    }
   ],
   "source": [
    "d2v_model = Doc2Vec(vector_size=50, min_count=1, workers=cores-1)\n",
    "d2v_model.build_vocab(documents)\n",
    "# Count of sentences\n",
    "total_samples = d2v_model.corpus_count\n",
    "total_samples"
   ]
  },
  {
   "cell_type": "code",
   "execution_count": 15,
   "metadata": {},
   "outputs": [
    {
     "name": "stdout",
     "output_type": "stream",
     "text": [
      "Time to train the model: = 5.761 seconds\n"
     ]
    }
   ],
   "source": [
    "start = time()\n",
    "\n",
    "d2v_model.train(documents, total_examples=total_samples, epochs=30, report_delay=1)\n",
    "\n",
    "end = time()\n",
    "result = end - start\n",
    "print('Time to train the model: = %.3f seconds' % result)\n"
   ]
  },
  {
   "cell_type": "code",
   "execution_count": 16,
   "metadata": {},
   "outputs": [
    {
     "name": "stdout",
     "output_type": "stream",
     "text": [
      "2173\n"
     ]
    }
   ],
   "source": [
    "# unique word count in the vocabulary\n",
    "# wv contains the mapping between words and embeddings. \n",
    "print(len(list(d2v_model.wv.vocab)))"
   ]
  },
  {
   "cell_type": "code",
   "execution_count": 20,
   "metadata": {},
   "outputs": [
    {
     "name": "stdout",
     "output_type": "stream",
     "text": [
      "[ 0.01828095 -0.01161459 -0.03549461 -0.06302511  0.0086281  -0.07857449\n",
      " -0.05345789 -0.01069882  0.01415775 -0.03169349 -0.02846215  0.03012632\n",
      "  0.01128201  0.00479274  0.09456352  0.04035947 -0.03215443 -0.14354128\n",
      "  0.02728761  0.00904494  0.06605706 -0.02980579 -0.02048273  0.02531907\n",
      "  0.0706407  -0.00330988 -0.06455009 -0.00716657 -0.02954319  0.01365033\n",
      " -0.00783302 -0.03612248 -0.00129961  0.00241372 -0.02085019 -0.01207652\n",
      " -0.04227084  0.08551898 -0.03647259  0.03294102 -0.00668255  0.06695747\n",
      "  0.11367755 -0.02108269 -0.02298834 -0.0626253   0.00528375  0.0451779\n",
      " -0.01660063 -0.0369475 ]\n"
     ]
    }
   ],
   "source": [
    "# dv contains the paragraph vectors learned from the training data. Workaround to get the vectors since there is \n",
    "# a bug with dv\n",
    "# printing the vector embeddings for the first document\n",
    "print(d2v_model.__dict__['docvecs'][0])"
   ]
  },
  {
   "cell_type": "code",
   "execution_count": 21,
   "metadata": {},
   "outputs": [
    {
     "data": {
      "text/plain": [
       "4006"
      ]
     },
     "execution_count": 21,
     "metadata": {},
     "output_type": "execute_result"
    }
   ],
   "source": [
    "len(d2v_model.__dict__['docvecs'])"
   ]
  },
  {
   "cell_type": "markdown",
   "metadata": {},
   "source": [
    "Now we have model with the document vector embeddings. "
   ]
  },
  {
   "cell_type": "code",
   "execution_count": 33,
   "metadata": {},
   "outputs": [],
   "source": [
    "# vector embeddings data\n",
    "vectors_map = d2v_model.__dict__['docvecs']"
   ]
  },
  {
   "cell_type": "code",
   "execution_count": 34,
   "metadata": {},
   "outputs": [
    {
     "data": {
      "text/plain": [
       "array([ 0.01828095, -0.01161459, -0.03549461, -0.06302511,  0.0086281 ,\n",
       "       -0.07857449, -0.05345789, -0.01069882,  0.01415775, -0.03169349,\n",
       "       -0.02846215,  0.03012632,  0.01128201,  0.00479274,  0.09456352,\n",
       "        0.04035947, -0.03215443, -0.14354128,  0.02728761,  0.00904494,\n",
       "        0.06605706, -0.02980579, -0.02048273,  0.02531907,  0.0706407 ,\n",
       "       -0.00330988, -0.06455009, -0.00716657, -0.02954319,  0.01365033,\n",
       "       -0.00783302, -0.03612248, -0.00129961,  0.00241372, -0.02085019,\n",
       "       -0.01207652, -0.04227084,  0.08551898, -0.03647259,  0.03294102,\n",
       "       -0.00668255,  0.06695747,  0.11367755, -0.02108269, -0.02298834,\n",
       "       -0.0626253 ,  0.00528375,  0.0451779 , -0.01660063, -0.0369475 ],\n",
       "      dtype=float32)"
      ]
     },
     "execution_count": 34,
     "metadata": {},
     "output_type": "execute_result"
    }
   ],
   "source": [
    "vectors_map[0]"
   ]
  },
  {
   "cell_type": "code",
   "execution_count": 35,
   "metadata": {},
   "outputs": [
    {
     "data": {
      "text/plain": [
       "gensim.models.keyedvectors.Doc2VecKeyedVectors"
      ]
     },
     "execution_count": 35,
     "metadata": {},
     "output_type": "execute_result"
    }
   ],
   "source": [
    "type(vectors_map)"
   ]
  },
  {
   "cell_type": "code",
   "execution_count": 36,
   "metadata": {},
   "outputs": [],
   "source": [
    "data = []\n",
    "for i in range(len(vectors_map)):\n",
    "    data.append(vectors_map[i])"
   ]
  },
  {
   "cell_type": "markdown",
   "metadata": {},
   "source": [
    "# Clustering with KMeansClusterer"
   ]
  },
  {
   "cell_type": "code",
   "execution_count": 37,
   "metadata": {},
   "outputs": [
    {
     "name": "stdout",
     "output_type": "stream",
     "text": [
      "KMeans Training time = 208.955 seconds\n",
      "4006\n"
     ]
    }
   ],
   "source": [
    "start = time()\n",
    "NUM_CLUSTERS=7 # based on the optimal number of topics of a previous approach on this data\n",
    "kclusterer = KMeansClusterer(NUM_CLUSTERS, distance=nltk.cluster.util.cosine_distance, repeats=25)\n",
    "assigned_clusters = kclusterer.cluster(data, assign_clusters=True)\n",
    "end = time()\n",
    "result = end - start\n",
    "print('KMeans Training time = %.3f seconds' % result)\n",
    "\n",
    "print(len(assigned_clusters))"
   ]
  },
  {
   "cell_type": "code",
   "execution_count": 38,
   "metadata": {},
   "outputs": [
    {
     "data": {
      "text/plain": [
       "[1, 0, 0, 1, 0, 0, 1, 3, 0, 0]"
      ]
     },
     "execution_count": 38,
     "metadata": {},
     "output_type": "execute_result"
    }
   ],
   "source": [
    "# clusters for the first 10 entries in the data\n",
    "assigned_clusters[:10]"
   ]
  },
  {
   "cell_type": "code",
   "execution_count": 39,
   "metadata": {},
   "outputs": [
    {
     "data": {
      "text/plain": [
       "[['firstnam'],\n",
       " ['get', 'irrit', 'easili'],\n",
       " ['comment'],\n",
       " ['let', 'survey', 'exercis'],\n",
       " ['like', 'design'],\n",
       " ['part', 'contact', 'surpris', 'soon'],\n",
       " ['ever', 'paid', 'servic', 'like'],\n",
       " ['type', 'servic', 'interest'],\n",
       " ['recommend', 'indivirtu', 'client'],\n",
       " ['select', 'bunch', 'stuff']]"
      ]
     },
     "execution_count": 39,
     "metadata": {},
     "output_type": "execute_result"
    }
   ],
   "source": [
    "# list the first ten documents in the corpus\n",
    "final_corpus_stem[:10]"
   ]
  },
  {
   "cell_type": "markdown",
   "metadata": {},
   "source": [
    "# Clustering with KMeans"
   ]
  },
  {
   "cell_type": "code",
   "execution_count": 40,
   "metadata": {},
   "outputs": [
    {
     "name": "stderr",
     "output_type": "stream",
     "text": [
      "C:\\Users\\ARosa\\Miniconda3\\lib\\site-packages\\sklearn\\cluster\\_kmeans.py:793: FutureWarning: 'n_jobs' was deprecated in version 0.23 and will be removed in 1.0 (renaming of 0.25).\n",
      "  \" removed in 1.0 (renaming of 0.25).\", FutureWarning)\n"
     ]
    },
    {
     "name": "stdout",
     "output_type": "stream",
     "text": [
      "KMeans Training time = 0.532 seconds\n"
     ]
    }
   ],
   "source": [
    "start = time()\n",
    "kmeans = KMeans(n_jobs=-1, n_clusters=NUM_CLUSTERS, init='k-means++', random_state=42)\n",
    "kmeans.fit(data)\n",
    "end = time()\n",
    "result = end - start\n",
    "print('KMeans Training time = %.3f seconds' % result)\n",
    " \n",
    "labels = kmeans.labels_\n",
    "centroids = kmeans.cluster_centers_"
   ]
  },
  {
   "cell_type": "code",
   "execution_count": 41,
   "metadata": {},
   "outputs": [
    {
     "data": {
      "text/plain": [
       "4006"
      ]
     },
     "execution_count": 41,
     "metadata": {},
     "output_type": "execute_result"
    }
   ],
   "source": [
    "len(labels)"
   ]
  },
  {
   "cell_type": "code",
   "execution_count": 42,
   "metadata": {},
   "outputs": [
    {
     "data": {
      "text/plain": [
       "array([3, 5, 0, 2, 3, 2, 0, 4, 2, 5])"
      ]
     },
     "execution_count": 42,
     "metadata": {},
     "output_type": "execute_result"
    }
   ],
   "source": [
    "# clusters for the first 10 entries in the data\n",
    "labels[:10]"
   ]
  },
  {
   "cell_type": "code",
   "execution_count": 43,
   "metadata": {},
   "outputs": [
    {
     "data": {
      "text/plain": [
       "[['firstnam'],\n",
       " ['get', 'irrit', 'easili'],\n",
       " ['comment'],\n",
       " ['let', 'survey', 'exercis'],\n",
       " ['like', 'design'],\n",
       " ['part', 'contact', 'surpris', 'soon'],\n",
       " ['ever', 'paid', 'servic', 'like'],\n",
       " ['type', 'servic', 'interest'],\n",
       " ['recommend', 'indivirtu', 'client'],\n",
       " ['select', 'bunch', 'stuff']]"
      ]
     },
     "execution_count": 43,
     "metadata": {},
     "output_type": "execute_result"
    }
   ],
   "source": [
    "# list the first ten documents in the corpus\n",
    "final_corpus_stem[:10]"
   ]
  },
  {
   "cell_type": "markdown",
   "metadata": {},
   "source": [
    "# Find optimal number of clusters"
   ]
  },
  {
   "cell_type": "markdown",
   "metadata": {},
   "source": [
    "For each k value, we will initialise k-means and use the inertia attribute to identify the sum of squared distances of samples to the nearest cluster centre.  **Inertia** is calculated as the sum of squared distance for each point to it's closest centroid, i.e., its assigned cluster. So $I=∑_i(d(i,cr))$ where cr is the centroid of the assigned cluster and d is the squared distance.\n",
    "\n",
    "Let´s explore up to 15 clusters to check if we find an optimal value. We use \"k-means++\" instead of \"random\" to ensure centroids are initialized with some distance between them. In most cases, this will be an improvement over \"random\". "
   ]
  },
  {
   "cell_type": "code",
   "execution_count": 44,
   "metadata": {},
   "outputs": [],
   "source": [
    "def km_check(data, no_clusters=15, k_means_method='k-means++'):\n",
    "    \"\"\"runs k-means clustering over no_clusters to get an idea of # clusters required for data.\n",
    "    returns a plot with clusters v SSE. \"\"\"\n",
    "    sse = []\n",
    "    for cluster in range(1, no_clusters):\n",
    "        kmeans = KMeans(n_jobs=-1,\n",
    "                        n_clusters=cluster,\n",
    "                        init=k_means_method,\n",
    "                        random_state=42)\n",
    "        kmeans.fit(data)\n",
    "        sse.append(kmeans.inertia_)\n",
    "    analysis = pd.DataFrame({'Cluster': range(1, no_clusters), 'SSE': sse})\n",
    "    plt.figure(figsize=(12, 6))\n",
    "    plt.plot(analysis['Cluster'], analysis['SSE'], marker='o')\n",
    "    plt.xlabel('Number of clusters')\n",
    "    plt.ylabel('Inertia/SSE')\n",
    "    plt.show()"
   ]
  },
  {
   "cell_type": "code",
   "execution_count": 47,
   "metadata": {},
   "outputs": [
    {
     "name": "stderr",
     "output_type": "stream",
     "text": [
      "C:\\Users\\ARosa\\Miniconda3\\lib\\site-packages\\sklearn\\cluster\\_kmeans.py:793: FutureWarning: 'n_jobs' was deprecated in version 0.23 and will be removed in 1.0 (renaming of 0.25).\n",
      "  \" removed in 1.0 (renaming of 0.25).\", FutureWarning)\n",
      "C:\\Users\\ARosa\\Miniconda3\\lib\\site-packages\\sklearn\\cluster\\_kmeans.py:793: FutureWarning: 'n_jobs' was deprecated in version 0.23 and will be removed in 1.0 (renaming of 0.25).\n",
      "  \" removed in 1.0 (renaming of 0.25).\", FutureWarning)\n",
      "C:\\Users\\ARosa\\Miniconda3\\lib\\site-packages\\sklearn\\cluster\\_kmeans.py:793: FutureWarning: 'n_jobs' was deprecated in version 0.23 and will be removed in 1.0 (renaming of 0.25).\n",
      "  \" removed in 1.0 (renaming of 0.25).\", FutureWarning)\n",
      "C:\\Users\\ARosa\\Miniconda3\\lib\\site-packages\\sklearn\\cluster\\_kmeans.py:793: FutureWarning: 'n_jobs' was deprecated in version 0.23 and will be removed in 1.0 (renaming of 0.25).\n",
      "  \" removed in 1.0 (renaming of 0.25).\", FutureWarning)\n",
      "C:\\Users\\ARosa\\Miniconda3\\lib\\site-packages\\sklearn\\cluster\\_kmeans.py:793: FutureWarning: 'n_jobs' was deprecated in version 0.23 and will be removed in 1.0 (renaming of 0.25).\n",
      "  \" removed in 1.0 (renaming of 0.25).\", FutureWarning)\n",
      "C:\\Users\\ARosa\\Miniconda3\\lib\\site-packages\\sklearn\\cluster\\_kmeans.py:793: FutureWarning: 'n_jobs' was deprecated in version 0.23 and will be removed in 1.0 (renaming of 0.25).\n",
      "  \" removed in 1.0 (renaming of 0.25).\", FutureWarning)\n",
      "C:\\Users\\ARosa\\Miniconda3\\lib\\site-packages\\sklearn\\cluster\\_kmeans.py:793: FutureWarning: 'n_jobs' was deprecated in version 0.23 and will be removed in 1.0 (renaming of 0.25).\n",
      "  \" removed in 1.0 (renaming of 0.25).\", FutureWarning)\n",
      "C:\\Users\\ARosa\\Miniconda3\\lib\\site-packages\\sklearn\\cluster\\_kmeans.py:793: FutureWarning: 'n_jobs' was deprecated in version 0.23 and will be removed in 1.0 (renaming of 0.25).\n",
      "  \" removed in 1.0 (renaming of 0.25).\", FutureWarning)\n",
      "C:\\Users\\ARosa\\Miniconda3\\lib\\site-packages\\sklearn\\cluster\\_kmeans.py:793: FutureWarning: 'n_jobs' was deprecated in version 0.23 and will be removed in 1.0 (renaming of 0.25).\n",
      "  \" removed in 1.0 (renaming of 0.25).\", FutureWarning)\n",
      "C:\\Users\\ARosa\\Miniconda3\\lib\\site-packages\\sklearn\\cluster\\_kmeans.py:793: FutureWarning: 'n_jobs' was deprecated in version 0.23 and will be removed in 1.0 (renaming of 0.25).\n",
      "  \" removed in 1.0 (renaming of 0.25).\", FutureWarning)\n",
      "C:\\Users\\ARosa\\Miniconda3\\lib\\site-packages\\sklearn\\cluster\\_kmeans.py:793: FutureWarning: 'n_jobs' was deprecated in version 0.23 and will be removed in 1.0 (renaming of 0.25).\n",
      "  \" removed in 1.0 (renaming of 0.25).\", FutureWarning)\n",
      "C:\\Users\\ARosa\\Miniconda3\\lib\\site-packages\\sklearn\\cluster\\_kmeans.py:793: FutureWarning: 'n_jobs' was deprecated in version 0.23 and will be removed in 1.0 (renaming of 0.25).\n",
      "  \" removed in 1.0 (renaming of 0.25).\", FutureWarning)\n",
      "C:\\Users\\ARosa\\Miniconda3\\lib\\site-packages\\sklearn\\cluster\\_kmeans.py:793: FutureWarning: 'n_jobs' was deprecated in version 0.23 and will be removed in 1.0 (renaming of 0.25).\n",
      "  \" removed in 1.0 (renaming of 0.25).\", FutureWarning)\n",
      "C:\\Users\\ARosa\\Miniconda3\\lib\\site-packages\\sklearn\\cluster\\_kmeans.py:793: FutureWarning: 'n_jobs' was deprecated in version 0.23 and will be removed in 1.0 (renaming of 0.25).\n",
      "  \" removed in 1.0 (renaming of 0.25).\", FutureWarning)\n"
     ]
    },
    {
     "data": {
      "image/png": "[encoded data removed]",
      "text/plain": [
       "<Figure size 864x432 with 1 Axes>"
      ]
     },
     "metadata": {
      "needs_background": "light"
     },
     "output_type": "display_data"
    },
    {
     "name": "stdout",
     "output_type": "stream",
     "text": [
      "Training time = 8.654 seconds\n"
     ]
    }
   ],
   "source": [
    "start = time()\n",
    "km_check(data)\n",
    "end = time()\n",
    "result = end - start\n",
    "print('Training time = %.3f seconds' % result)"
   ]
  },
  {
   "cell_type": "markdown",
   "metadata": {},
   "source": [
    "The ideal number of clusters seems to be 4 or 5, so according to this space representation of the documents we need less clusters than the number of topics found with the LDA technique."
   ]
  },
  {
   "cell_type": "code",
   "execution_count": 48,
   "metadata": {},
   "outputs": [
    {
     "name": "stderr",
     "output_type": "stream",
     "text": [
      "C:\\Users\\ARosa\\Miniconda3\\lib\\site-packages\\sklearn\\cluster\\_kmeans.py:793: FutureWarning: 'n_jobs' was deprecated in version 0.23 and will be removed in 1.0 (renaming of 0.25).\n",
      "  \" removed in 1.0 (renaming of 0.25).\", FutureWarning)\n"
     ]
    },
    {
     "data": {
      "text/plain": [
       "KMeans(n_clusters=4, n_jobs=-1, random_state=42)"
      ]
     },
     "execution_count": 48,
     "metadata": {},
     "output_type": "execute_result"
    }
   ],
   "source": [
    "final_model = KMeans(n_jobs=-1, n_clusters=4, init='k-means++', random_state=42)\n",
    "final_model.fit(data)"
   ]
  },
  {
   "cell_type": "code",
   "execution_count": 49,
   "metadata": {},
   "outputs": [],
   "source": [
    "labels = final_model.labels_\n",
    "centroids = final_model.cluster_centers_"
   ]
  },
  {
   "cell_type": "markdown",
   "metadata": {},
   "source": [
    "## Cluster distribution of documents"
   ]
  },
  {
   "cell_type": "code",
   "execution_count": 58,
   "metadata": {},
   "outputs": [
    {
     "data": {
      "text/plain": [
       "Text(0, 0.5, 'Volume of docs')"
      ]
     },
     "execution_count": 58,
     "metadata": {},
     "output_type": "execute_result"
    },
    {
     "data": {
      "image/png": "[encoded data removed]",
      "text/plain": [
       "<Figure size 432x288 with 1 Axes>"
      ]
     },
     "metadata": {},
     "output_type": "display_data"
    }
   ],
   "source": [
    "import seaborn as sns\n",
    "sns.set(style=\"darkgrid\", palette=\"viridis\")\n",
    "labels_df = pd.DataFrame(labels, columns =['cluster_id'])\n",
    "labels_df.cluster_id.value_counts().plot.bar(color='purple')\n",
    "plt.xlabel('Cluster Id')\n",
    "plt.ylabel('Volume of docs')"
   ]
  },
  {
   "cell_type": "markdown",
   "metadata": {},
   "source": [
    "The cluster with the highest number of assigned documents is cluster 3 and the smallest cluster is the one with id 2."
   ]
  },
  {
   "cell_type": "code",
   "execution_count": 61,
   "metadata": {},
   "outputs": [
    {
     "data": {
      "text/html": [
       "<div>\n",
       "<style scoped>\n",
       "    .dataframe tbody tr th:only-of-type {\n",
       "        vertical-align: middle;\n",
       "    }\n",
       "\n",
       "    .dataframe tbody tr th {\n",
       "        vertical-align: top;\n",
       "    }\n",
       "\n",
       "    .dataframe thead th {\n",
       "        text-align: right;\n",
       "    }\n",
       "</style>\n",
       "<table border=\"1\" class=\"dataframe\">\n",
       "  <thead>\n",
       "    <tr style=\"text-align: right;\">\n",
       "      <th></th>\n",
       "      <th>tokens</th>\n",
       "      <th>cluster_id</th>\n",
       "    </tr>\n",
       "  </thead>\n",
       "  <tbody>\n",
       "    <tr>\n",
       "      <th>0</th>\n",
       "      <td>[firstnam]</td>\n",
       "      <td>3</td>\n",
       "    </tr>\n",
       "    <tr>\n",
       "      <th>1</th>\n",
       "      <td>[get, irrit, easili]</td>\n",
       "      <td>1</td>\n",
       "    </tr>\n",
       "    <tr>\n",
       "      <th>2</th>\n",
       "      <td>[comment]</td>\n",
       "      <td>0</td>\n",
       "    </tr>\n",
       "    <tr>\n",
       "      <th>3</th>\n",
       "      <td>[let, survey, exercis]</td>\n",
       "      <td>3</td>\n",
       "    </tr>\n",
       "    <tr>\n",
       "      <th>4</th>\n",
       "      <td>[like, design]</td>\n",
       "      <td>3</td>\n",
       "    </tr>\n",
       "  </tbody>\n",
       "</table>\n",
       "</div>"
      ],
      "text/plain": [
       "                   tokens  cluster_id\n",
       "0              [firstnam]           3\n",
       "1    [get, irrit, easili]           1\n",
       "2               [comment]           0\n",
       "3  [let, survey, exercis]           3\n",
       "4          [like, design]           3"
      ]
     },
     "execution_count": 61,
     "metadata": {},
     "output_type": "execute_result"
    }
   ],
   "source": [
    "doc_labels = pd.DataFrame(columns=['tokens', 'cluster_id'])\n",
    "doc_labels.tokens = final_corpus_stem\n",
    "doc_labels.cluster_id = labels\n",
    "doc_labels.head()"
   ]
  },
  {
   "cell_type": "code",
   "execution_count": 64,
   "metadata": {},
   "outputs": [
    {
     "data": {
      "text/plain": [
       "0                                           [firstnam]\n",
       "3                               [let, survey, exercis]\n",
       "4                                       [like, design]\n",
       "5                       [part, contact, surpris, soon]\n",
       "12                                                [ok]\n",
       "13                                     [favorit, beer]\n",
       "14                                        [legal, bit]\n",
       "15                                 [much, like, pizza]\n",
       "16                                              [titl]\n",
       "18    [welcom, test, form, itll, take, minut, complet]\n",
       "24                                      [happi, today]\n",
       "29                               [favourit, run, song]\n",
       "30                         [provid, telephon, connect]\n",
       "34                        [like, creat, form, htmlphp]\n",
       "36                                          [feedback]\n",
       "Name: tokens, dtype: object"
      ]
     },
     "execution_count": 64,
     "metadata": {},
     "output_type": "execute_result"
    }
   ],
   "source": [
    "doc_labels.loc[doc_labels.cluster_id == 3, \"tokens\"].head(15)"
   ]
  },
  {
   "cell_type": "code",
   "execution_count": 66,
   "metadata": {},
   "outputs": [
    {
     "data": {
      "text/plain": [
       "1                                  [get, irrit, easili]\n",
       "8                        [recommend, indivirtu, client]\n",
       "9                                [select, bunch, stuff]\n",
       "11                                [els, thrown, ground]\n",
       "19                                [get, stress, easili]\n",
       "27         [feel, virtual, topic, highli, interest, go]\n",
       "44                           [import, senior, portrait]\n",
       "49                   [strongdo, ux, design, teamstrong]\n",
       "67                  [count, game, quantiti, dog, choos]\n",
       "69    [like, mention, member, team, stood, provid, e...\n",
       "70                                      [top, prioriti]\n",
       "72                                       [monkey, rule]\n",
       "78                                     [salari, requir]\n",
       "79    [signific, discount, avail, booth, make, like,...\n",
       "92                                   [particip, genuin]\n",
       "Name: tokens, dtype: object"
      ]
     },
     "execution_count": 66,
     "metadata": {},
     "output_type": "execute_result"
    }
   ],
   "source": [
    "doc_labels.loc[doc_labels.cluster_id == 1, \"tokens\"].head(15)"
   ]
  },
  {
   "cell_type": "markdown",
   "metadata": {},
   "source": [
    "OTHER APPROACH"
   ]
  },
  {
   "cell_type": "markdown",
   "metadata": {},
   "source": [
    "Use a pretrained model with embeddings and train it with our vocabulary. Thus we can get a bigger corpus incorporating more words and add more relations. Are the clusters done with this approach more meaningful but maybe we are adding also more noise?\n",
    "https://datascience.stackexchange.com/questions/10695/how-to-initialize-a-new-word2vec-model-with-pre-trained-model-weights"
   ]
  },
  {
   "cell_type": "code",
   "execution_count": null,
   "metadata": {},
   "outputs": [],
   "source": [
    "# it loads only the map with words and vectors of the trained model, instead of the whole model\n",
    "model = KeyedVectors.load_word2vec_format(\"glove.6B.50d.txt\", binary=False)\n",
    "# add your vocabulary\n",
    "model_2.build_vocab([list(your_model.vocab.keys())], update=True)\n",
    "model_2.intersect_word2vec_format(\"glove.6B.50d.txt\", binary=False, lockf=1.0)\n",
    "model_2.train(sentences, total_examples=total_examples, epochs=model_2.iter)"
   ]
  },
  {
   "cell_type": "markdown",
   "metadata": {},
   "source": [
    "# References\n",
    "\n",
    "https://ai.intelligentonlinetools.com/ml/k-means-clustering-example-word2vec/\n",
    "\n",
    "https://ai.intelligentonlinetools.com/ml/text-clustering-word-embedding-machine-learning/\n",
    "\n",
    "https://cs.stanford.edu/~quocle/paragraph_vector.pdf\n",
    "\n",
    "https://www.kaggle.com/pierremegret/gensim-word2vec-tutorial\n",
    "\n",
    "https://datascience.stackexchange.com/questions/10695/how-to-initialize-a-new-word2vec-model-with-pre-trained-model-weights"
   ]
  },
  {
   "cell_type": "code",
   "execution_count": null,
   "metadata": {},
   "outputs": [],
   "source": []
  }
 ],
 "metadata": {
  "kernelspec": {
   "display_name": "Python 3",
   "language": "python",
   "name": "python3"
  },
  "language_info": {
   "codemirror_mode": {
    "name": "ipython",
    "version": 3
   },
   "file_extension": ".py",
   "mimetype": "text/x-python",
   "name": "python",
   "nbconvert_exporter": "python",
   "pygments_lexer": "ipython3",
   "version": "3.7.7"
  }
 },
 "nbformat": 4,
 "nbformat_minor": 2
}
